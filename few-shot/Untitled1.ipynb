{
 "cells": [
  {
   "cell_type": "code",
   "execution_count": 1,
   "id": "3da19dce-c776-4fcb-9301-075e91fcb5c0",
   "metadata": {},
   "outputs": [],
   "source": [
    "import tensorflow as tf"
   ]
  },
  {
   "cell_type": "code",
   "execution_count": 5,
   "id": "52ab9a5d-6779-4863-bf36-ab4fe9f38465",
   "metadata": {},
   "outputs": [
    {
     "name": "stdout",
     "output_type": "stream",
     "text": [
      "Downloading data from https://storage.googleapis.com/tensorflow/keras-applications/inception_resnet_v2/inception_resnet_v2_weights_tf_dim_ordering_tf_kernels_notop.h5\n",
      "219062272/219055592 [==============================] - 7s 0us/step\n",
      "219070464/219055592 [==============================] - 7s 0us/step\n"
     ]
    }
   ],
   "source": [
    "base_model = tf.keras.applications.InceptionResNetV2(include_top=False, weights=\"imagenet\", input_shape=(\n",
    "            256, 256, 3), pooling='avg')"
   ]
  },
  {
   "cell_type": "code",
   "execution_count": 7,
   "id": "8821d9ba-9687-464f-adbc-41918a4c0f94",
   "metadata": {},
   "outputs": [],
   "source": [
    "class CustomLayer(tf.keras.layers.Layer):\n",
    "    def __init__(self, w_init, name='custom_layer'):\n",
    "        super(CustomLayer, self).__init__(name=name)\n",
    "        units = w_init.shape[1]\n",
    "        self.w = tf.Variable(\n",
    "            initial_value=w_init,\n",
    "            trainable=True,\n",
    "        )\n",
    "        b_init = tf.zeros_initializer()\n",
    "        self.b = tf.Variable(\n",
    "            initial_value=b_init(shape=(units,), dtype=\"float32\"), trainable=True\n",
    "        )\n",
    "\n",
    "    def call(self, inputs):\n",
    "        embeddings = tf.math.l2_normalize(inputs, axis=1, epsilon=1e-10)  # b x 2048, w: 2048 x 17\n",
    "        t = tf.matmul(embeddings, self.w)                                # b x 17\n",
    "        t = tf.math.l2_normalize(t, axis=1, epsilon=1e-10)\n",
    "        z = t + self.b\n",
    "        return tf.keras.activations.softmax(z, axis=-1)"
   ]
  },
  {
   "cell_type": "code",
   "execution_count": 3,
   "id": "cf4d8e26-23de-4d78-a869-d7db57a32511",
   "metadata": {},
   "outputs": [],
   "source": [
    "inputs = tf.keras.Input(shape=(256, 256, 3))\n",
    "x = base_model(inputs, training=False)"
   ]
  }
 ],
 "metadata": {
  "kernelspec": {
   "display_name": "Python 3 (ipykernel)",
   "language": "python",
   "name": "python3"
  },
  "language_info": {
   "codemirror_mode": {
    "name": "ipython",
    "version": 3
   },
   "file_extension": ".py",
   "mimetype": "text/x-python",
   "name": "python",
   "nbconvert_exporter": "python",
   "pygments_lexer": "ipython3",
   "version": "3.9.10"
  }
 },
 "nbformat": 4,
 "nbformat_minor": 5
}
