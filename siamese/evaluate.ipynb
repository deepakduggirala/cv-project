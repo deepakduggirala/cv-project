{
 "cells": [
  {
   "cell_type": "code",
   "execution_count": 1,
   "id": "3805b25f-355a-46d4-8a91-f1755aa1819c",
   "metadata": {},
   "outputs": [],
   "source": [
    "import argparse\n",
    "import json\n",
    "import ssl\n",
    "import datetime\n",
    "import os\n",
    "import math\n",
    "from pathlib import Path\n",
    "\n",
    "import numpy as np\n",
    "import matplotlib.pyplot as plt\n",
    "\n",
    "\n",
    "from data import get_zoo_elephants_images_and_labels, get_ELEP_images_and_labels, get_eval_dataset, parse_image_function\n",
    "from train import SiameseModel\n",
    "from metrics import get_kernel_mask, val, far, pairwise_accuracy\n",
    "\n",
    "import tensorflow as tf\n",
    "from tensorflow.keras import optimizers"
   ]
  },
  {
   "cell_type": "code",
   "execution_count": null,
   "id": "d61b0f47-9067-42fb-8f88-8a74687bdb2b",
   "metadata": {},
   "outputs": [],
   "source": [
    "from importlib import reload\n",
    "reload(data)"
   ]
  },
  {
   "cell_type": "code",
   "execution_count": 3,
   "id": "e15552b5-622f-40aa-9f81-627e64da50f5",
   "metadata": {},
   "outputs": [],
   "source": [
    "with open('hyperparameters/initial_run.json', 'rb') as f:\n",
    "    params = json.load(f)"
   ]
  },
  {
   "cell_type": "code",
   "execution_count": 4,
   "id": "c447eea5-548f-41bc-8629-1e8a7274cb87",
   "metadata": {},
   "outputs": [
    {
     "data": {
      "text/plain": [
       "<tensorflow.python.training.tracking.util.CheckpointLoadStatus at 0x156396c10>"
      ]
     },
     "execution_count": 4,
     "metadata": {},
     "output_type": "execute_result"
    }
   ],
   "source": [
    "siamese_model = SiameseModel(params, True)\n",
    "siamese_model.load_weights('/Users/deepakduggirala/Downloads/best_weights')"
   ]
  },
  {
   "cell_type": "code",
   "execution_count": 5,
   "id": "1a864470-2f31-4fd6-82d2-9d85858086cb",
   "metadata": {},
   "outputs": [],
   "source": [
    "data_dir='/Users/deepakduggirala/Documents/Elephants-dataset-cropped-png-1024'"
   ]
  },
  {
   "cell_type": "code",
   "execution_count": 11,
   "id": "7ce4d87f-2e88-48a3-a760-2dc1b934cf84",
   "metadata": {},
   "outputs": [],
   "source": [
    "cache_file = str(Path(data_dir) / 'eval.cache')"
   ]
  },
  {
   "cell_type": "code",
   "execution_count": 12,
   "id": "488161bc-86aa-4289-a4c5-67a7795506da",
   "metadata": {},
   "outputs": [
    {
     "name": "stdout",
     "output_type": "stream",
     "text": [
      "reading Tensor(\"args_0:0\", shape=(), dtype=string)\n"
     ]
    }
   ],
   "source": [
    "images, labels = get_eval_dataset(get_zoo_elephants_images_and_labels, params, data_dir, cache_file)"
   ]
  },
  {
   "cell_type": "code",
   "execution_count": 13,
   "id": "bef3f0c7-2ded-4680-837c-b992910c3480",
   "metadata": {},
   "outputs": [
    {
     "name": "stderr",
     "output_type": "stream",
     "text": [
      "2022-04-24 09:59:19.269024: W tensorflow/core/platform/profile_utils/cpu_utils.cc:128] Failed to get CPU frequency: 0 Hz\n",
      "2022-04-24 09:59:19.285326: W tensorflow/core/kernels/data/cache_dataset_ops.cc:233] The calling iterator did not fully read the dataset being cached. In order to avoid unexpected truncation of the dataset, the partially cached contents of the dataset  will be discarded. This can happen if you have an input pipeline similar to `dataset.cache().take(k).repeat()`. You should use `dataset.take(k).cache().repeat()` instead.\n",
      "2022-04-24 10:00:21.741975: W tensorflow/core/kernels/data/cache_dataset_ops.cc:233] The calling iterator did not fully read the dataset being cached. In order to avoid unexpected truncation of the dataset, the partially cached contents of the dataset  will be discarded. This can happen if you have an input pipeline similar to `dataset.cache().take(k).repeat()`. You should use `dataset.take(k).cache().repeat()` instead.\n"
     ]
    }
   ],
   "source": [
    "embeddings = siamese_model.predict(images)\n",
    "embeddings = embeddings / np.linalg.norm(embeddings, axis=1, keepdims=1)"
   ]
  },
  {
   "cell_type": "code",
   "execution_count": 15,
   "id": "74d3d756-5f29-4b66-b707-ccf6d818e9e5",
   "metadata": {},
   "outputs": [
    {
     "name": "stdout",
     "output_type": "stream",
     "text": [
      "Validation rate (VAL):  0.8005773260220231\n",
      "False accept rate (FAR):  0.45122392883358436\n",
      "pairwise_accuracy:  0.5645873209717999\n"
     ]
    }
   ],
   "source": [
    "d=1.0\n",
    "kernel, mask = get_kernel_mask(labels, embeddings)\n",
    "print('Validation rate (VAL): ', val(kernel, mask, d, include_diag=False))\n",
    "print('False accept rate (FAR): ', far(kernel, mask, d))\n",
    "print('pairwise_accuracy: ', pairwise_accuracy(kernel, mask, d))"
   ]
  },
  {
   "cell_type": "code",
   "execution_count": null,
   "id": "7b862347-895a-4771-a3e8-53ca796df51a",
   "metadata": {},
   "outputs": [],
   "source": []
  },
  {
   "cell_type": "code",
   "execution_count": null,
   "id": "0a817b49-4283-4c48-a2e4-7d07106730b0",
   "metadata": {},
   "outputs": [],
   "source": []
  },
  {
   "cell_type": "code",
   "execution_count": 16,
   "id": "0a95e423-da8c-41c6-9cdb-bd7f6a299ba6",
   "metadata": {},
   "outputs": [
    {
     "data": {
      "text/plain": [
       "array([0.4, 0.5, 0.6, 0.7, 0.8, 0.9, 1. , 1.1, 1.2, 1.3])"
      ]
     },
     "execution_count": 16,
     "metadata": {},
     "output_type": "execute_result"
    }
   ],
   "source": [
    "np.arange(0.4,1.4,0.1)"
   ]
  },
  {
   "cell_type": "code",
   "execution_count": null,
   "id": "d2cb0e2e-92bb-46af-a0dc-ffcfd376a4ae",
   "metadata": {},
   "outputs": [],
   "source": []
  },
  {
   "cell_type": "code",
   "execution_count": null,
   "id": "edcae1de-a662-4adb-958f-bdffbe0069ac",
   "metadata": {},
   "outputs": [],
   "source": []
  },
  {
   "cell_type": "code",
   "execution_count": null,
   "id": "76a2e2a7-5cc3-4027-a03c-5a5a1851539c",
   "metadata": {},
   "outputs": [],
   "source": [
    "plt.imshow(mask)"
   ]
  },
  {
   "cell_type": "code",
   "execution_count": null,
   "id": "fd1ee69b-4f10-4f5e-8034-6517ddfacf47",
   "metadata": {},
   "outputs": [],
   "source": [
    "signatures = {}"
   ]
  },
  {
   "cell_type": "code",
   "execution_count": null,
   "id": "612a08c5-577a-4f47-b0fb-c326c0681087",
   "metadata": {},
   "outputs": [],
   "source": [
    "for label in set(labels):\n",
    "    label_idxs = np.where(labels == label)[0]\n",
    "    signature = np.mean(embeddings[label_idxs], axis=0, keepdims=1)\n",
    "    signatures[label]=signature"
   ]
  },
  {
   "cell_type": "code",
   "execution_count": null,
   "id": "66e48962-6c5b-4a84-98f4-349b46c6d12f",
   "metadata": {},
   "outputs": [],
   "source": [
    "np.concatenate(signatures.values(), axis=0)"
   ]
  },
  {
   "cell_type": "code",
   "execution_count": null,
   "id": "d28e4f13-e61d-4fac-9d81-99d31c91ab9b",
   "metadata": {},
   "outputs": [],
   "source": [
    "for label, signature in signatures.items():"
   ]
  },
  {
   "cell_type": "code",
   "execution_count": null,
   "id": "80d1894d-34ab-408a-acca-43acaefd5ee6",
   "metadata": {},
   "outputs": [],
   "source": []
  },
  {
   "cell_type": "code",
   "execution_count": null,
   "id": "d0304f45-729c-4e76-bdbc-6ad36b3a01d0",
   "metadata": {},
   "outputs": [],
   "source": []
  },
  {
   "cell_type": "code",
   "execution_count": null,
   "id": "974d5a74-aa39-446a-8454-ec7e4b78603f",
   "metadata": {},
   "outputs": [],
   "source": []
  },
  {
   "cell_type": "code",
   "execution_count": 26,
   "id": "62ab82aa-d573-463f-979f-9bd6c0f21585",
   "metadata": {},
   "outputs": [],
   "source": [
    "from sklearn.manifold import TSNE\n",
    "X_embedded = TSNE(n_components=2, learning_rate='auto', init='random').fit_transform(embeddings)"
   ]
  },
  {
   "cell_type": "code",
   "execution_count": 27,
   "id": "960f6b9d-ba2f-4270-8b93-bb2122f0b3c0",
   "metadata": {},
   "outputs": [
    {
     "data": {
      "text/plain": [
       "<matplotlib.collections.PathCollection at 0x16c9374c0>"
      ]
     },
     "execution_count": 27,
     "metadata": {},
     "output_type": "execute_result"
    },
    {
     "data": {
      "image/png": "[encoded data removed]",
      "text/plain": [
       "<Figure size 432x288 with 1 Axes>"
      ]
     },
     "metadata": {
      "needs_background": "light"
     },
     "output_type": "display_data"
    }
   ],
   "source": [
    "plt.scatter(X_embedded[:,0], X_embedded[:,1])\n",
    "\n",
    "# for i, label in enumerate(pts):\n",
    "#     plt.annotate(label, (X_embedded[i,0], X_embedded[i,1]))\n",
    "\n",
    "\n"
   ]
  },
  {
   "cell_type": "code",
   "execution_count": null,
   "id": "1738594a-554b-4e41-9039-0f30dada399a",
   "metadata": {},
   "outputs": [],
   "source": []
  },
  {
   "cell_type": "code",
   "execution_count": null,
   "id": "6c1483e4-7b0f-4f6b-a762-1559c5120ec9",
   "metadata": {},
   "outputs": [],
   "source": [
    "# R = np.random.randint(low=0, high=2, size=(N,N)).astype(np.bool8)\n",
    "# TP = np.sum(mask * R)\n",
    "# TN = np.sum(~mask * R)\n",
    "# (TP+TN)/(N*(N))"
   ]
  },
  {
   "cell_type": "code",
   "execution_count": null,
   "id": "23a905ba-d5bf-4a2b-bc0c-a75a26ff648b",
   "metadata": {},
   "outputs": [],
   "source": [
    "# d = 0.5\n",
    "# p_same_idx = np.triu_indices(7, k = 1)\n",
    "# N = p_same_idx[0].shape[0]\n",
    "# np.sum(K[:7,:7][p_same_idx] < d)/N"
   ]
  },
  {
   "cell_type": "code",
   "execution_count": null,
   "id": "02d6fbb2-c12d-4e77-b07e-1486a0fb38d9",
   "metadata": {},
   "outputs": [],
   "source": [
    "# N = categories.shape[0]\n",
    "# Z = np.zeros((N, N, 3), dtype=np.int32)\n",
    "# X, Y = np.meshgrid(np.arange(N), np.arange(N))\n",
    "# Z[:,:,0] = Y\n",
    "# Z[:,:,1] = X\n",
    "# Z[:,:, 2] = mask\n",
    "# ix, iy = np.triu_indices(N, k = 1)\n",
    "\n",
    "# tr_u = Z[ix, iy, :]\n",
    "\n",
    "# same_idx = tr_u[tr_u[:,2]==1, :2]\n",
    "# diff_idx = tr_u[tr_u[:,2]==0, :2]"
   ]
  },
  {
   "cell_type": "code",
   "execution_count": null,
   "id": "aed2779c-b888-4c80-bad8-34e7b8f93393",
   "metadata": {},
   "outputs": [],
   "source": [
    "# same_idx"
   ]
  },
  {
   "cell_type": "code",
   "execution_count": null,
   "id": "8171586f-5f49-4ffc-8b70-8312ef80befe",
   "metadata": {},
   "outputs": [],
   "source": [
    "# TA = K[same_idx[:,0], same_idx[:,1]] < d\n",
    "\n",
    "# VAL = np.sum(TA)/TA.shape[0]\n",
    "# VAL"
   ]
  },
  {
   "cell_type": "code",
   "execution_count": null,
   "id": "5c1f5c10-1dfa-42c0-ae4d-3841566887fb",
   "metadata": {},
   "outputs": [],
   "source": [
    "# np.sum(TA), TA.shape[0]"
   ]
  },
  {
   "cell_type": "code",
   "execution_count": null,
   "id": "272564bd-1dff-4150-86d3-a30a23b0fa90",
   "metadata": {},
   "outputs": [],
   "source": [
    "# FA = K[diff_idx[:,0], diff_idx[:,1]] <= d\n",
    "\n",
    "# FAR = np.sum(FA)/FA.shape[0]\n",
    "# FAR"
   ]
  },
  {
   "cell_type": "code",
   "execution_count": null,
   "id": "a4a05ddc-a73a-48b7-bdc1-7c0fb8891e20",
   "metadata": {
    "tags": []
   },
   "outputs": [],
   "source": [
    "# np.sum(FA), FA.shape"
   ]
  }
 ],
 "metadata": {
  "kernelspec": {
   "display_name": "Python 3 (ipykernel)",
   "language": "python",
   "name": "python3"
  },
  "language_info": {
   "codemirror_mode": {
    "name": "ipython",
    "version": 3
   },
   "file_extension": ".py",
   "mimetype": "text/x-python",
   "name": "python",
   "nbconvert_exporter": "python",
   "pygments_lexer": "ipython3",
   "version": "3.9.10"
  }
 },
 "nbformat": 4,
 "nbformat_minor": 5
}
