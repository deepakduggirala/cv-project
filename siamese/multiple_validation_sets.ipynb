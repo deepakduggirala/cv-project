{
 "cells": [
  {
   "cell_type": "code",
   "execution_count": 1,
   "id": "5867a5a8-7344-47c7-a2ad-d5cc700ccf6c",
   "metadata": {},
   "outputs": [],
   "source": [
    "import os\n",
    "import json\n",
    "import tensorflow as tf\n",
    "from keras.utils.layer_utils import count_params\n",
    "from model import get_model\n",
    "from pathlib import Path\n",
    "\n",
    "from data import get_dataset, get_zoo_elephants_images_and_labels, get_ELEP_images_and_labels\n",
    "from train import SiameseModel\n",
    "from metrics import get_kernel_mask, val, far, pairwise_accuracy\n",
    "\n",
    "from tensorflow.keras import optimizers\n",
    "from tensorflow.keras.applications.inception_v3 import InceptionV3\n",
    "\n",
    "import model"
   ]
  },
  {
   "cell_type": "code",
   "execution_count": 2,
   "id": "940a3f4c-08dd-4fef-87aa-14b1d7f2a63b",
   "metadata": {},
   "outputs": [
    {
     "data": {
      "text/plain": [
       "<module 'model' from '/Users/deepakduggirala/Documents/project/siamese/model.py'>"
      ]
     },
     "execution_count": 2,
     "metadata": {},
     "output_type": "execute_result"
    }
   ],
   "source": [
    "from importlib import reload\n",
    "reload(model)"
   ]
  },
  {
   "cell_type": "code",
   "execution_count": 3,
   "id": "019578e3-7ac8-40d6-8248-e441ebc04c8c",
   "metadata": {},
   "outputs": [],
   "source": [
    "with open('hyperparameters/initial_run.json', 'rb') as f:\n",
    "    params = json.load(f)"
   ]
  },
  {
   "cell_type": "code",
   "execution_count": 4,
   "id": "5cd81802-bf62-49a5-9adc-a2e0b4afd193",
   "metadata": {},
   "outputs": [],
   "source": [
    "data_dir = '/Users/deepakduggirala/Documents/ELPephant-cropped'\n",
    "data_dir_2 = '/Users/deepakduggirala/Documents/Elephants-dataset-cropped-png-1024'"
   ]
  },
  {
   "cell_type": "code",
   "execution_count": 5,
   "id": "c20f5785-aac2-4db6-90de-9df83590a681",
   "metadata": {},
   "outputs": [],
   "source": [
    "cache_files = {\n",
    "        'train': str(Path(data_dir) / 'train.cache'),\n",
    "        'val': str(Path(data_dir) / 'val.cache'),\n",
    "        'val_2': str(Path(data_dir_2) / 'val.cache')\n",
    "    }"
   ]
  },
  {
   "cell_type": "code",
   "execution_count": 22,
   "id": "a142bb38-b63c-498f-8675-629126f4decc",
   "metadata": {},
   "outputs": [],
   "source": [
    "train_ds, N_train = get_dataset(get_ELEP_images_and_labels, \n",
    "                                params, \n",
    "                                str(Path(data_dir)/'train'),\n",
    "                                augment=True,  \n",
    "                                cache_file=cache_files['train'], \n",
    "                                shuffle=True,\n",
    "                                batch_size=128)\n",
    "\n",
    "val_ds, N_val = get_dataset(get_ELEP_images_and_labels, \n",
    "                            params, \n",
    "                            str(Path(data_dir)/'val'),\n",
    "                            augment=False, \n",
    "                            cache_file=cache_files['val'], \n",
    "                            shuffle=False, \n",
    "                            batch_size=32)\n",
    "\n",
    "val_ds_2, N_val_2 = get_dataset(get_zoo_elephants_images_and_labels, \n",
    "                                params, \n",
    "                                data_dir_2,\n",
    "                                augment=False, \n",
    "                                cache_file=cache_files['val_2'], \n",
    "                                shuffle=False, \n",
    "                                batch_size=32)"
   ]
  },
  {
   "cell_type": "code",
   "execution_count": 9,
   "id": "94a89754-eeeb-46d4-8bdb-4d6a331363ad",
   "metadata": {},
   "outputs": [
    {
     "data": {
      "text/plain": [
       "<tensorflow.python.training.tracking.util.CheckpointLoadStatus at 0x158ae4550>"
      ]
     },
     "execution_count": 9,
     "metadata": {},
     "output_type": "execute_result"
    }
   ],
   "source": [
    "siamese_model = SiameseModel(params, True)\n",
    "siamese_model.load_weights('/Users/deepakduggirala/Downloads/best_weights')"
   ]
  },
  {
   "cell_type": "code",
   "execution_count": 12,
   "id": "52af0bc4-3ee6-4ba0-a0a0-5ddf2bde4d2e",
   "metadata": {},
   "outputs": [],
   "source": [
    "siamese_model.compile(optimizer=optimizers.Adam(learning_rate=params['lr']))"
   ]
  },
  {
   "cell_type": "code",
   "execution_count": 34,
   "id": "9ee8abe6-beb3-4eab-8dc9-460794badc68",
   "metadata": {},
   "outputs": [],
   "source": [
    "# https://stackoverflow.com/a/47738812/2580077\n",
    "\n",
    "class AdditionalValidationSets(tf.keras.callbacks.Callback):\n",
    "    def __init__(self, validation_sets, verbose=0):\n",
    "        super(AdditionalValidationSets, self).__init__()\n",
    "        self.validation_sets = validation_sets\n",
    "        self.verbose = verbose\n",
    "\n",
    "    def on_epoch_end(self, epoch, logs=None):\n",
    "\n",
    "        # evaluate on the additional validation sets\n",
    "        for validation_set in self.validation_sets:\n",
    "            val_ds, validation_set_name = validation_set\n",
    "\n",
    "            results = self.model.evaluate(val_ds,\n",
    "                                          verbose=self.verbose,\n",
    "                                          return_dict=True)\n",
    "\n",
    "            for metric, result in results.items():\n",
    "                valuename = validation_set_name + '_' + metric\n",
    "                logs[valuename]=result"
   ]
  },
  {
   "cell_type": "code",
   "execution_count": 32,
   "id": "ce473efe-237c-4228-935d-a58e22e8f4b3",
   "metadata": {},
   "outputs": [],
   "source": [
    "history = AdditionalValidationSets([(val_ds_2.take(2), 'val_2')], verbose=0)"
   ]
  },
  {
   "cell_type": "code",
   "execution_count": null,
   "id": "45f5ac41-42ab-44ee-9c4d-266815b58abc",
   "metadata": {},
   "outputs": [],
   "source": []
  },
  {
   "cell_type": "code",
   "execution_count": null,
   "id": "846fcc7a-7452-4a15-b167-264e1e26198c",
   "metadata": {},
   "outputs": [],
   "source": [
    "results = siamese_model.evaluate(val_ds, verbose=1, return_dict=True)"
   ]
  },
  {
   "cell_type": "code",
   "execution_count": 18,
   "id": "b65e985a-4db1-47be-ba30-4c6c2ed1227f",
   "metadata": {},
   "outputs": [
    {
     "data": {
      "text/plain": [
       "dict_items([('loss', 0.06534186750650406), ('VAL', 0.981441080570221), ('FAR', 0.3229336440563202)])"
      ]
     },
     "execution_count": 18,
     "metadata": {},
     "output_type": "execute_result"
    }
   ],
   "source": [
    "results.items()"
   ]
  },
  {
   "cell_type": "code",
   "execution_count": null,
   "id": "bf59d059-a933-4f83-96f5-1cc10b6e8ccb",
   "metadata": {},
   "outputs": [],
   "source": []
  },
  {
   "cell_type": "code",
   "execution_count": 33,
   "id": "057d89c0-2ecc-44f2-8317-20bbb2085c13",
   "metadata": {},
   "outputs": [
    {
     "name": "stdout",
     "output_type": "stream",
     "text": [
      "Epoch 1/2\n",
      "2/2 [==============================] - ETA: 0s - loss: 4.1047 - VAL: 1.0000 - FAR: 0.3333Start testing; got log keys: ['loss', 'VAL', 'FAR', 'val_loss', 'val_VAL', 'val_FAR']\n",
      "2/2 [==============================] - 18s 11s/step - loss: 4.1047 - VAL: 1.0000 - FAR: 0.3333 - val_loss: 0.0491 - val_VAL: 0.9576 - val_FAR: 0.3338 - val_2_loss: 0.0000e+00 - val_2_VAL: 0.9909 - val_2_FAR: nan\n",
      "Epoch 2/2\n",
      "2/2 [==============================] - ETA: 0s - loss: 3.9832 - VAL: 0.9700 - FAR: 0.3328Start testing; got log keys: ['loss', 'VAL', 'FAR', 'val_loss', 'val_VAL', 'val_FAR']\n",
      "2/2 [==============================] - 20s 12s/step - loss: 3.9832 - VAL: 0.9700 - FAR: 0.3328 - val_loss: 0.0473 - val_VAL: 0.9576 - val_FAR: 0.3179 - val_2_loss: 0.0000e+00 - val_2_VAL: 0.9909 - val_2_FAR: nan\n"
     ]
    },
    {
     "data": {
      "text/plain": [
       "<keras.callbacks.History at 0x17e2a31c0>"
      ]
     },
     "execution_count": 33,
     "metadata": {},
     "output_type": "execute_result"
    }
   ],
   "source": [
    "siamese_model.fit(train_ds.take(2),\n",
    "                      epochs=2,\n",
    "                      validation_data=val_ds.take(2),\n",
    "                      callbacks=[history])"
   ]
  },
  {
   "cell_type": "code",
   "execution_count": null,
   "id": "a64d6048-e090-4553-b8ad-365222a228c4",
   "metadata": {},
   "outputs": [],
   "source": []
  },
  {
   "cell_type": "code",
   "execution_count": null,
   "id": "8fb67bc2-f4da-4a0f-84ee-6465fe92eb2a",
   "metadata": {},
   "outputs": [],
   "source": []
  },
  {
   "cell_type": "code",
   "execution_count": 36,
   "id": "2b26b17f-d437-43e7-8629-d45944c792a7",
   "metadata": {},
   "outputs": [],
   "source": [
    "import numpy as np"
   ]
  },
  {
   "cell_type": "code",
   "execution_count": 39,
   "id": "07d5a129-15eb-40b5-812d-125b560bb114",
   "metadata": {},
   "outputs": [
    {
     "data": {
      "text/plain": [
       "array([0.01 , 0.015, 0.02 , 0.025, 0.03 , 0.035, 0.04 , 0.045, 0.05 ,\n",
       "       0.055, 0.06 , 0.065, 0.07 , 0.075, 0.08 , 0.085, 0.09 , 0.095,\n",
       "       0.1  ])"
      ]
     },
     "execution_count": 39,
     "metadata": {},
     "output_type": "execute_result"
    }
   ],
   "source": [
    "np.arange(0.01,0.105,0.005)"
   ]
  }
 ],
 "metadata": {
  "kernelspec": {
   "display_name": "Python 3 (ipykernel)",
   "language": "python",
   "name": "python3"
  },
  "language_info": {
   "codemirror_mode": {
    "name": "ipython",
    "version": 3
   },
   "file_extension": ".py",
   "mimetype": "text/x-python",
   "name": "python",
   "nbconvert_exporter": "python",
   "pygments_lexer": "ipython3",
   "version": "3.9.10"
  }
 },
 "nbformat": 4,
 "nbformat_minor": 5
}
