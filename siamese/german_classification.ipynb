{
 "cells": [
  {
   "cell_type": "markdown",
   "id": "a0de4276-34c7-498b-b49e-e0fdfca1e483",
   "metadata": {
    "tags": []
   },
   "source": [
    "### Embedding visualization"
   ]
  },
  {
   "cell_type": "code",
   "execution_count": 33,
   "id": "35e7f686-d103-4235-b452-3d90f44c5502",
   "metadata": {},
   "outputs": [],
   "source": [
    "import tensorflow as tf\n",
    "from tensorflow.keras.applications.resnet_v2 import preprocess_input\n",
    "from pathlib import Path\n",
    "import numpy as np\n",
    "import matplotlib.pyplot as plt\n",
    "\n",
    "from data import get_dataset, get_zoo_elephants_images_and_labels, get_ELEP_images_and_labels\n",
    "from tensorflow.keras import optimizers\n",
    "from sklearn.preprocessing import OrdinalEncoder\n",
    "from train import SiameseModel\n",
    "import json"
   ]
  },
  {
   "cell_type": "code",
   "execution_count": 66,
   "id": "79309689-dcd7-4401-abbf-0d8c236560ba",
   "metadata": {},
   "outputs": [],
   "source": [
    "data_dir = '/Users/gandhalimarunmale/Documents/02_Sem/Computer Vision/cv-project/siamese'"
   ]
  },
  {
   "cell_type": "code",
   "execution_count": 67,
   "id": "65543ec8-3fb3-497d-8af4-993ab4cc5e27",
   "metadata": {},
   "outputs": [],
   "source": [
    "params = {\n",
    "    'image_size': 256,\n",
    "    'resize_pad': False,\n",
    "    'dense_l2_reg_c': 0.0001,\n",
    "    'embedding_size': 1,\n",
    "    'lr': 0.001\n",
    "}\n"
   ]
  },
  {
   "cell_type": "markdown",
   "id": "c1a67bca-614e-4793-9767-448c759baa96",
   "metadata": {},
   "source": [
    "#### Train images without augmentation on base model ResrNet50 weights"
   ]
  },
  {
   "cell_type": "code",
   "execution_count": 68,
   "id": "eced3426-d6b6-4f23-ab25-676ce6e49dd0",
   "metadata": {},
   "outputs": [],
   "source": [
    "train_ds, N_train = get_dataset(get_ELEP_images_and_labels, \n",
    "                                params, \n",
    "                                str(Path(data_dir)/'classification'),\n",
    "                                augment=False,  \n",
    "                                cache_file=None, \n",
    "                                shuffle=False,\n",
    "                                batch_size=32)"
   ]
  },
  {
   "cell_type": "code",
   "execution_count": 69,
   "id": "f15fe727-7382-4e75-a9d8-11473ac40ef4",
   "metadata": {},
   "outputs": [],
   "source": [
    "image_paths, image_labels = get_ELEP_images_and_labels(str(Path(data_dir)/'classification'))"
   ]
  },
  {
   "cell_type": "code",
   "execution_count": 70,
   "id": "ab92a9d0-073c-4761-99d6-0bee1d32ea26",
   "metadata": {},
   "outputs": [],
   "source": [
    "enc = OrdinalEncoder()\n",
    "l= np.array(image_labels).reshape(-1, 1)\n",
    "enc.fit(l)\n",
    "categories = enc.transform(l)"
   ]
  },
  {
   "cell_type": "code",
   "execution_count": 52,
   "id": "da8db465-2b86-4a6d-a146-833850700a3c",
   "metadata": {},
   "outputs": [],
   "source": [
    "# image_paths, image_labels = get_zoo_elephants_images_and_labels(str(Path(data_dir)/'train'))\n",
    "# y_true = (np.array(image_labels) == 'elephants').astype(np.int32)"
   ]
  },
  {
   "cell_type": "code",
   "execution_count": 71,
   "id": "f46f2337-a5e3-4d36-8871-f471008265d7",
   "metadata": {
    "tags": []
   },
   "outputs": [],
   "source": [
    "base_model = tf.keras.applications.ResNet50V2(include_top=False, weights=\"imagenet\", input_shape=(\n",
    "        params['image_size'], params['image_size'], 3), pooling='avg')\n",
    "embeddings = base_model.predict(train_ds)"
   ]
  },
  {
   "cell_type": "code",
   "execution_count": 72,
   "id": "2206fb7d-3fb5-48b4-b11b-f8b98c6bfafe",
   "metadata": {},
   "outputs": [
    {
     "data": {
      "text/plain": [
       "(82, 2048)"
      ]
     },
     "execution_count": 72,
     "metadata": {},
     "output_type": "execute_result"
    }
   ],
   "source": [
    "embeddings.shape"
   ]
  },
  {
   "cell_type": "code",
   "execution_count": 73,
   "id": "ba3b8141-a03d-4564-a11b-9253578e1611",
   "metadata": {},
   "outputs": [],
   "source": [
    "from sklearn.manifold import TSNE\n",
    "X_embedded = TSNE(n_components=2, learning_rate='auto', init='random').fit_transform(embeddings)"
   ]
  },
  {
   "cell_type": "code",
   "execution_count": 74,
   "id": "bdbd9366-1f1f-4d53-a38b-0cbba523ec36",
   "metadata": {},
   "outputs": [
    {
     "data": {
      "text/plain": [
       "<matplotlib.collections.PathCollection at 0x293382e50>"
      ]
     },
     "execution_count": 74,
     "metadata": {},
     "output_type": "execute_result"
    },
    {
     "data": {
      "image/png": "[encoded data removed]",
      "text/plain": [
       "<Figure size 432x288 with 1 Axes>"
      ]
     },
     "metadata": {
      "needs_background": "light"
     },
     "output_type": "display_data"
    }
   ],
   "source": [
    "plt.scatter(X_embedded[:,0], X_embedded[:,1], c=categories, cmap='plasma')"
   ]
  },
  {
   "cell_type": "markdown",
   "id": "e55db67c-c53f-4674-a89d-4e5e5f07fadc",
   "metadata": {},
   "source": [
    "#### Train images without augmentation on base model InceptionV3 weights"
   ]
  },
  {
   "cell_type": "code",
   "execution_count": 75,
   "id": "82c3ab92-dff9-4baa-b99a-f2900a000549",
   "metadata": {},
   "outputs": [],
   "source": [
    "base_model_inc = tf.keras.applications.InceptionV3(include_top=False, weights=\"imagenet\", input_shape=(\n",
    "        params['image_size'], params['image_size'], 3), pooling='avg')\n",
    "embeddings_inc = base_model_inc.predict(train_ds)"
   ]
  },
  {
   "cell_type": "code",
   "execution_count": 76,
   "id": "c43ec09e-3509-4f17-8b51-70809aeb3b33",
   "metadata": {},
   "outputs": [],
   "source": [
    "from sklearn.manifold import TSNE\n",
    "X_embedded_inc = TSNE(n_components=2, learning_rate='auto', init='random').fit_transform(embeddings_inc)"
   ]
  },
  {
   "cell_type": "code",
   "execution_count": 77,
   "id": "15186f86-2a99-4b2f-bac3-f0474c9bbd44",
   "metadata": {},
   "outputs": [
    {
     "data": {
      "text/plain": [
       "<matplotlib.collections.PathCollection at 0x296671fd0>"
      ]
     },
     "execution_count": 77,
     "metadata": {},
     "output_type": "execute_result"
    },
    {
     "data": {
      "image/png": "[encoded data removed]",
      "text/plain": [
       "<Figure size 432x288 with 1 Axes>"
      ]
     },
     "metadata": {
      "needs_background": "light"
     },
     "output_type": "display_data"
    }
   ],
   "source": [
    "plt.scatter(X_embedded_inc[:,0], X_embedded_inc[:,1], c=categories, cmap='plasma')"
   ]
  },
  {
   "cell_type": "markdown",
   "id": "47d4f4cb-ae25-4e6c-91fa-ea7ca1f168bb",
   "metadata": {},
   "source": [
    "#### Train images without augmentation on learned weights for ResNet50"
   ]
  },
  {
   "cell_type": "code",
   "execution_count": 31,
   "id": "44cd99d5-5674-4e4f-b22a-493ded12422c",
   "metadata": {},
   "outputs": [
    {
     "name": "stdout",
     "output_type": "stream",
     "text": [
      "/Users/gandhalimarunmale/Documents/02_Sem/Computer Vision/cv-project/siamese\n"
     ]
    }
   ],
   "source": [
    "!pwd"
   ]
  },
  {
   "cell_type": "code",
   "execution_count": 34,
   "id": "eaf7f04d-c392-4d9b-bfc6-26203b9b8b3c",
   "metadata": {},
   "outputs": [],
   "source": [
    "with open('hyperparameters/initial_run.json', 'rb') as f:\n",
    "        params_siamese = json.load(f)"
   ]
  },
  {
   "cell_type": "code",
   "execution_count": 35,
   "id": "c9880c07-a9f6-4e09-b630-4505a7c8d3e0",
   "metadata": {},
   "outputs": [
    {
     "data": {
      "text/plain": [
       "{'name': 'init',\n",
       " 'image_size': 256,\n",
       " 'resize_pad': False,\n",
       " 'batch_size': {'train': 128, 'val': 512},\n",
       " 'margin': 0.5,\n",
       " 'squared': False,\n",
       " 'embedding_size': 256,\n",
       " 'lr': 5e-05,\n",
       " 'decay_steps': 13,\n",
       " 'decay_rate': 0.96,\n",
       " 'dense_l2_reg_c': 0.01,\n",
       " 'metrics_d': 1.25,\n",
       " 'triplet_strategy': 'batch_all',\n",
       " 'depthwise': False}"
      ]
     },
     "execution_count": 35,
     "metadata": {},
     "output_type": "execute_result"
    }
   ],
   "source": [
    "params_siamese"
   ]
  },
  {
   "cell_type": "code",
   "execution_count": 78,
   "id": "e6a6094f-e759-4b42-8d7f-7505f6b24bef",
   "metadata": {},
   "outputs": [],
   "source": [
    "siamese_model = SiameseModel(params_siamese, False)"
   ]
  },
  {
   "cell_type": "code",
   "execution_count": 79,
   "id": "4998aa9a-d157-4084-a5d1-6eee29f3ece4",
   "metadata": {},
   "outputs": [
    {
     "data": {
      "text/plain": [
       "<tensorflow.python.training.tracking.util.CheckpointLoadStatus at 0x2a9c47ac0>"
      ]
     },
     "execution_count": 79,
     "metadata": {},
     "output_type": "execute_result"
    }
   ],
   "source": [
    "siamese_model.load_weights('best_weights')"
   ]
  },
  {
   "cell_type": "code",
   "execution_count": 42,
   "id": "f7505091-bda0-416f-aa52-08c0623802aa",
   "metadata": {},
   "outputs": [
    {
     "name": "stdout",
     "output_type": "stream",
     "text": [
      "Model: \"siamese_model\"\n",
      "_________________________________________________________________\n",
      " Layer (type)                Output Shape              Param #   \n",
      "=================================================================\n",
      " model (Functional)          (None, 256)               24089344  \n",
      "                                                                 \n",
      "=================================================================\n",
      "Total params: 24,089,350\n",
      "Trainable params: 524,544\n",
      "Non-trainable params: 23,564,806\n",
      "_________________________________________________________________\n"
     ]
    }
   ],
   "source": [
    "siamese_model.summary()"
   ]
  },
  {
   "cell_type": "code",
   "execution_count": 80,
   "id": "e90008ee-b32a-4a3e-aea8-05b9307f6feb",
   "metadata": {},
   "outputs": [],
   "source": [
    "embeddings_siamese = siamese_model.predict(train_ds)"
   ]
  },
  {
   "cell_type": "code",
   "execution_count": 89,
   "id": "d0207220-5ae0-4e51-b8e9-96cfe0be8c9e",
   "metadata": {},
   "outputs": [],
   "source": [
    "X_embedded_siamese = TSNE(n_components=2, learning_rate='auto', init='random').fit_transform(embeddings_siamese)"
   ]
  },
  {
   "cell_type": "code",
   "execution_count": 90,
   "id": "8bfe2dd1-ae68-49e9-aa78-3e58042b96f4",
   "metadata": {},
   "outputs": [
    {
     "data": {
      "text/plain": [
       "<matplotlib.collections.PathCollection at 0x2adc20c10>"
      ]
     },
     "execution_count": 90,
     "metadata": {},
     "output_type": "execute_result"
    },
    {
     "data": {
      "image/png": "[encoded data removed]",
      "text/plain": [
       "<Figure size 432x288 with 1 Axes>"
      ]
     },
     "metadata": {
      "needs_background": "light"
     },
     "output_type": "display_data"
    }
   ],
   "source": [
    "plt.scatter(X_embedded_siamese[:,0], X_embedded_siamese[:,1], c=categories, cmap='plasma')"
   ]
  },
  {
   "cell_type": "code",
   "execution_count": null,
   "id": "b9ad9326-90b3-4759-a6c0-1255c6bd8fe2",
   "metadata": {},
   "outputs": [],
   "source": []
  },
  {
   "cell_type": "code",
   "execution_count": null,
   "id": "97a5b83b-9503-4d2b-bb16-6e6a6d68d1c8",
   "metadata": {},
   "outputs": [],
   "source": []
  },
  {
   "cell_type": "code",
   "execution_count": null,
   "id": "39f4a767-816d-47f8-907a-76e5a429a968",
   "metadata": {},
   "outputs": [],
   "source": []
  },
  {
   "cell_type": "code",
   "execution_count": null,
   "id": "377e09d5-92b3-43fe-817f-d51adc601098",
   "metadata": {},
   "outputs": [],
   "source": []
  },
  {
   "cell_type": "code",
   "execution_count": null,
   "id": "1f691cc3-81f3-430e-9266-99a618fabf26",
   "metadata": {},
   "outputs": [],
   "source": []
  },
  {
   "cell_type": "markdown",
   "id": "cfe24e17-46cf-4024-935b-4628538bb83b",
   "metadata": {},
   "source": [
    "#### Train images without augmentation on base model InceptionV3 weights"
   ]
  },
  {
   "cell_type": "code",
   "execution_count": 25,
   "id": "68ce97d3-e029-4950-931c-ffd6b11b0e6b",
   "metadata": {},
   "outputs": [
    {
     "name": "stdout",
     "output_type": "stream",
     "text": [
      "Downloading data from https://storage.googleapis.com/tensorflow/keras-applications/inception_v3/inception_v3_weights_tf_dim_ordering_tf_kernels_notop.h5\n",
      "87916544/87910968 [==============================] - 12s 0us/step\n",
      "87924736/87910968 [==============================] - 12s 0us/step\n"
     ]
    }
   ],
   "source": [
    "base_model_inc = tf.keras.applications.InceptionV3(include_top=False, weights=\"imagenet\", input_shape=(\n",
    "        params['image_size'], params['image_size'], 3), pooling='avg')\n",
    "embeddings_inc = base_model_inc.predict(train_ds)"
   ]
  },
  {
   "cell_type": "code",
   "execution_count": 26,
   "id": "e5dc8bd2-12a8-451c-bff9-c45e9f7fb160",
   "metadata": {},
   "outputs": [],
   "source": [
    "from sklearn.manifold import TSNE\n",
    "X_embedded_inc = TSNE(n_components=2, learning_rate='auto', init='random').fit_transform(embeddings_inc)"
   ]
  },
  {
   "cell_type": "code",
   "execution_count": 28,
   "id": "95edb22d-10e1-4892-b6f6-f4172467e578",
   "metadata": {},
   "outputs": [
    {
     "data": {
      "text/plain": [
       "<matplotlib.collections.PathCollection at 0x29294ca90>"
      ]
     },
     "execution_count": 28,
     "metadata": {},
     "output_type": "execute_result"
    },
    {
     "data": {
      "image/png": "[encoded data removed]",
      "text/plain": [
       "<Figure size 432x288 with 1 Axes>"
      ]
     },
     "metadata": {
      "needs_background": "light"
     },
     "output_type": "display_data"
    }
   ],
   "source": [
    "plt.scatter(X_embedded_inc[:,0], X_embedded_inc[:,1], c=categories, cmap='plasma')"
   ]
  },
  {
   "cell_type": "code",
   "execution_count": null,
   "id": "b7331c1f-9c5e-483b-9369-13a3e00f17ab",
   "metadata": {},
   "outputs": [],
   "source": []
  },
  {
   "cell_type": "code",
   "execution_count": null,
   "id": "4ffaf7bf-482c-4599-9154-79632e826d65",
   "metadata": {},
   "outputs": [],
   "source": []
  },
  {
   "cell_type": "code",
   "execution_count": null,
   "id": "5c8e62cc-7ccf-4034-854c-b53fc61b2330",
   "metadata": {},
   "outputs": [],
   "source": []
  },
  {
   "cell_type": "markdown",
   "id": "300defcb-a4da-4fff-9d23-e2e5a7dd8a50",
   "metadata": {},
   "source": [
    "## Images with resizepad"
   ]
  },
  {
   "cell_type": "code",
   "execution_count": 50,
   "id": "bb2804b7-6fe4-4f6a-afc3-2a6afed5bf13",
   "metadata": {},
   "outputs": [],
   "source": [
    "params = {\n",
    "    'image_size': 256,\n",
    "    'resize_pad': True,\n",
    "    'dense_l2_reg_c': 0.0001,\n",
    "    'embedding_size': 1,\n",
    "    'lr': 0.001\n",
    "}\n",
    "\n",
    "cache_files = {\n",
    "        'train': str(Path(data_dir) / 'train_resize.cache'),\n",
    "        'val': str(Path(data_dir) / 'val_resize.cache')\n",
    "}"
   ]
  },
  {
   "cell_type": "code",
   "execution_count": 51,
   "id": "89446aa3-f79e-47d8-a557-f3832412bcb3",
   "metadata": {},
   "outputs": [],
   "source": [
    "train_ds, N_train = get_dataset(get_zoo_elephants_images_and_labels, \n",
    "                                params, \n",
    "                                str(Path(data_dir)/'train'),\n",
    "                                augment=True,  \n",
    "                                cache_file=cache_files['train'], \n",
    "                                shuffle=True,\n",
    "                                batch_size=32)\n",
    "\n",
    "val_ds, N_val = get_dataset(get_zoo_elephants_images_and_labels, \n",
    "                            params, \n",
    "                            str(Path(data_dir)/'val'),\n",
    "                            augment=False, \n",
    "                            cache_file=cache_files['val'], \n",
    "                            shuffle=False, \n",
    "                            batch_size=32)\n",
    "\n",
    "train_ds = train_ds.map(lambda x, y: (x, tf.cast(y == b'elephants', tf.int32)),\n",
    "        num_parallel_calls=tf.data.AUTOTUNE)\n",
    "\n",
    "val_ds = val_ds.map(lambda x, y: (x, tf.cast(y == b'elephants', tf.int32)),\n",
    "        num_parallel_calls=tf.data.AUTOTUNE)"
   ]
  }
 ],
 "metadata": {
  "kernelspec": {
   "display_name": "Python 3 (ipykernel)",
   "language": "python",
   "name": "python3"
  },
  "language_info": {
   "codemirror_mode": {
    "name": "ipython",
    "version": 3
   },
   "file_extension": ".py",
   "mimetype": "text/x-python",
   "name": "python",
   "nbconvert_exporter": "python",
   "pygments_lexer": "ipython3",
   "version": "3.9.12"
  }
 },
 "nbformat": 4,
 "nbformat_minor": 5
}
