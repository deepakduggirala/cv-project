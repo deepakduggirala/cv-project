{
 "cells": [
  {
   "cell_type": "code",
   "execution_count": 23,
   "id": "b1391bcf-e7c1-4d04-ae70-b21e47977ad9",
   "metadata": {},
   "outputs": [],
   "source": [
    "import os\n",
    "import json\n",
    "from pathlib import Path\n",
    "import datetime\n",
    "import math\n",
    "import numpy as np\n",
    "import matplotlib.pyplot as plt\n",
    "\n",
    "\n",
    "from data import get_dataset, get_zoo_elephants_images_and_labels, get_ELEP_images_and_labels\n",
    "# from train import SiameseModel\n",
    "from metrics import get_kernel_mask, val\n",
    "from model import get_model\n",
    "from triplet_loss import batch_all_triplet_loss\n",
    "\n",
    "import tensorflow as tf\n",
    "from tensorflow.keras import Model\n",
    "from tensorflow.keras import optimizers\n",
    "from tensorflow.keras import metrics\n",
    "from tensorflow.keras.models import load_model"
   ]
  },
  {
   "cell_type": "code",
   "execution_count": 2,
   "id": "600f37ea-c64d-49e7-8a28-ac0c2ae9ca4d",
   "metadata": {},
   "outputs": [],
   "source": [
    "with open('hyperparameters/initial_run.json', 'rb') as f:\n",
    "    params = json.load(f)"
   ]
  },
  {
   "cell_type": "code",
   "execution_count": 3,
   "id": "b43edfcb-c94f-4db9-b12f-7a6351f920a4",
   "metadata": {},
   "outputs": [],
   "source": [
    "params['batch_size']['train'] = 5\n",
    "params['batch_size']['val'] = 5"
   ]
  },
  {
   "cell_type": "code",
   "execution_count": 4,
   "id": "e55cf3b0-542e-4589-a81a-f56ff103b7fd",
   "metadata": {},
   "outputs": [],
   "source": [
    "data_dir = '/Users/deepakduggirala/Documents/ELPephant-cropped'"
   ]
  },
  {
   "cell_type": "code",
   "execution_count": 5,
   "id": "21af5dcc-8eb1-459e-a5cc-da7ce62d7a3b",
   "metadata": {},
   "outputs": [],
   "source": [
    "cache_files = {\n",
    "        'train': 'train.cache',\n",
    "        'val': 'val.cache'\n",
    "    }"
   ]
  },
  {
   "cell_type": "code",
   "execution_count": 6,
   "id": "9f1b8425-e554-4815-b207-af7a8f6c06fb",
   "metadata": {},
   "outputs": [
    {
     "name": "stdout",
     "output_type": "stream",
     "text": [
      "reading Tensor(\"args_0:0\", shape=(), dtype=string)\n",
      "reading Tensor(\"args_0:0\", shape=(), dtype=string)\n"
     ]
    }
   ],
   "source": [
    "train_ds, N_train = get_dataset(get_ELEP_images_and_labels, params, data_dir, 'train', cache_files)\n",
    "val_ds, N_val = get_dataset(get_ELEP_images_and_labels, params, data_dir, 'val', cache_files)"
   ]
  },
  {
   "cell_type": "code",
   "execution_count": 7,
   "id": "dd26c19a-e788-4cb7-b620-9d029666509b",
   "metadata": {},
   "outputs": [],
   "source": [
    "def val_metric(y_true, y_pred):\n",
    "    labels = y_true\n",
    "    embeddings = y_pred\n",
    "    \n",
    "    # print(labels.shape, embeddings.shape, type(labels), type(embeddings))\n",
    "    return tf.reduce_sum(embeddings)"
   ]
  },
  {
   "cell_type": "code",
   "execution_count": null,
   "id": "b7282b7d-e280-4621-bf69-04cc923b92dd",
   "metadata": {},
   "outputs": [],
   "source": []
  },
  {
   "cell_type": "code",
   "execution_count": null,
   "id": "874de15a-7580-497c-b793-ed79038b06cc",
   "metadata": {},
   "outputs": [],
   "source": []
  },
  {
   "cell_type": "code",
   "execution_count": null,
   "id": "528152b7-59aa-4ac6-a43d-dfdca15ac941",
   "metadata": {},
   "outputs": [],
   "source": []
  },
  {
   "cell_type": "code",
   "execution_count": 33,
   "id": "5a45c72f-284f-4dd2-ab90-e464569a990b",
   "metadata": {},
   "outputs": [],
   "source": [
    "class SiameseModel(Model):\n",
    "    def __init__(self, params, finetune):\n",
    "        super().__init__()\n",
    "        self.params = params\n",
    "        self.finetune = finetune\n",
    "        self.siamese_network = get_model(params, finetune)\n",
    "        self.custom_loss = batch_all_triplet_loss\n",
    "        self.loss_tracker = metrics.Mean(name=\"loss\")\n",
    "        self.val_rate_tracker = metrics.Mean(name=\"VAL\")\n",
    "\n",
    "    def call(self, inputs):\n",
    "        return self.siamese_network(inputs)\n",
    "\n",
    "    def train_step(self, data):\n",
    "        images, labels = data\n",
    "        with tf.GradientTape() as tape:\n",
    "            loss, embeddings = self._compute_loss(images, labels) \n",
    "            loss = loss + sum(self.siamese_network.losses)\n",
    "\n",
    "        # Storing the gradients of the loss function with respect to the\n",
    "        # weights/parameters.\n",
    "        gradients = tape.gradient(loss, self.siamese_network.trainable_weights)\n",
    "\n",
    "        # Applying the gradients on the model using the specified optimizer\n",
    "        self.optimizer.apply_gradients(\n",
    "            zip(gradients, self.siamese_network.trainable_weights)\n",
    "        )\n",
    "\n",
    "        # Let's update and return the training loss metric.\n",
    "        self.loss_tracker.update_state(loss)\n",
    "        return {\"loss\": self.loss_tracker.result(), \"VAL\": self.val_rate_tracker.result()}\n",
    "\n",
    "    def test_step(self, data):\n",
    "        images, labels = data\n",
    "        loss, embeddings = self._compute_loss(images, labels)\n",
    "\n",
    "        K, mask = get_kernel_mask(labels.numpy(), embeddings.numpy())\n",
    "        d = self.params['margin'] if self.params['squared'] else self.params['margin']**2\n",
    "        val_rate = val(K, mask, d, include_diag=True)\n",
    "        self.val_rate_tracker.update_state(val_rate)\n",
    "        \n",
    "        # Let's update and return the loss metric.\n",
    "        self.loss_tracker.update_state(loss)\n",
    "        return {\"loss\": self.loss_tracker.result(), \"VAL\": self.val_rate_tracker.result()}\n",
    "\n",
    "    def _compute_loss(self, images, labels):\n",
    "        embeddings = self.siamese_network(images)\n",
    "        embeddings = tf.math.l2_normalize(embeddings, axis=1, epsilon=1e-10)\n",
    "        \n",
    "        return self.custom_loss(labels, embeddings, self.params['margin'], self.params['squared']), embeddings"
   ]
  },
  {
   "cell_type": "code",
   "execution_count": null,
   "id": "6aac7294-4c08-450a-a2c4-29779ca8139a",
   "metadata": {},
   "outputs": [],
   "source": []
  },
  {
   "cell_type": "code",
   "execution_count": null,
   "id": "d937a2e6-8754-4683-b5c0-7cd0aa4c5e16",
   "metadata": {},
   "outputs": [],
   "source": []
  },
  {
   "cell_type": "code",
   "execution_count": 30,
   "id": "fc283989-0421-45e1-a6df-93ea7b83814a",
   "metadata": {},
   "outputs": [],
   "source": [
    "siamese_model = SiameseModel(params, False)\n",
    "siamese_model.compile(optimizer=optimizers.Adam(params['lr']), run_eagerly=True)"
   ]
  },
  {
   "cell_type": "code",
   "execution_count": 31,
   "id": "a42aa9ee-cea1-4caf-aeab-e7879a13ce50",
   "metadata": {},
   "outputs": [
    {
     "name": "stdout",
     "output_type": "stream",
     "text": [
      "Epoch 1/2\n",
      "1/1 [==============================] - 27s 27s/step - loss: 4.5506 - VAL: 0.0000e+00 - val_loss: 0.0378 - val_VAL: 0.9551\n",
      "Epoch 2/2\n",
      "1/1 [==============================] - 26s 26s/step - loss: 4.5241 - VAL: 0.0000e+00 - val_loss: 0.0468 - val_VAL: 0.9510\n"
     ]
    },
    {
     "data": {
      "text/plain": [
       "<keras.callbacks.History at 0x13fd0fd30>"
      ]
     },
     "execution_count": 31,
     "metadata": {},
     "output_type": "execute_result"
    }
   ],
   "source": [
    "siamese_model.fit(train_ds.take(1),\n",
    "                      epochs=2,\n",
    "                      validation_data=val_ds)"
   ]
  }
 ],
 "metadata": {
  "kernelspec": {
   "display_name": "Python 3 (ipykernel)",
   "language": "python",
   "name": "python3"
  },
  "language_info": {
   "codemirror_mode": {
    "name": "ipython",
    "version": 3
   },
   "file_extension": ".py",
   "mimetype": "text/x-python",
   "name": "python",
   "nbconvert_exporter": "python",
   "pygments_lexer": "ipython3",
   "version": "3.9.10"
  }
 },
 "nbformat": 4,
 "nbformat_minor": 5
}
