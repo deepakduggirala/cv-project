{
 "cells": [
  {
   "cell_type": "code",
   "execution_count": 1,
   "id": "b1391bcf-e7c1-4d04-ae70-b21e47977ad9",
   "metadata": {},
   "outputs": [],
   "source": [
    "import os\n",
    "import json\n",
    "from pathlib import Path\n",
    "import datetime\n",
    "import math\n",
    "import numpy as np\n",
    "import matplotlib.pyplot as plt\n",
    "\n",
    "\n",
    "from data import get_dataset, get_zoo_elephants_images_and_labels, get_ELEP_images_and_labels\n",
    "# from train import SiameseModel\n",
    "from metrics import get_kernel_mask, val\n",
    "from model import get_model\n",
    "from triplet_loss import batch_all_triplet_loss, _pairwise_distances, _get_anchor_positive_triplet_mask, val, far\n",
    "\n",
    "import tensorflow as tf\n",
    "from tensorflow.keras import Model\n",
    "from tensorflow.keras import optimizers\n",
    "from tensorflow.keras import metrics\n",
    "from tensorflow.keras.models import load_model"
   ]
  },
  {
   "cell_type": "code",
   "execution_count": 2,
   "id": "600f37ea-c64d-49e7-8a28-ac0c2ae9ca4d",
   "metadata": {},
   "outputs": [],
   "source": [
    "with open('hyperparameters/initial_run.json', 'rb') as f:\n",
    "    params = json.load(f)"
   ]
  },
  {
   "cell_type": "code",
   "execution_count": 15,
   "id": "b43edfcb-c94f-4db9-b12f-7a6351f920a4",
   "metadata": {},
   "outputs": [],
   "source": [
    "params['batch_size']['train'] = 50\n",
    "params['batch_size']['val'] = 50\n",
    "params['val_rate_d'] = 0.5"
   ]
  },
  {
   "cell_type": "code",
   "execution_count": 4,
   "id": "8d2b042f-2625-4ee5-a28d-f471ce1ea6f2",
   "metadata": {},
   "outputs": [
    {
     "data": {
      "text/plain": [
       "{'image_size': 256,\n",
       " 'batch_size': {'train': 5, 'val': 50},\n",
       " 'margin': 0.25,\n",
       " 'squared': True,\n",
       " 'embedding_size': 256,\n",
       " 'lr': 0.0001,\n",
       " 'dense_l2_reg_c': 0.0003,\n",
       " 'val_rate_d': 0.5}"
      ]
     },
     "execution_count": 4,
     "metadata": {},
     "output_type": "execute_result"
    }
   ],
   "source": [
    "params"
   ]
  },
  {
   "cell_type": "code",
   "execution_count": 5,
   "id": "e55cf3b0-542e-4589-a81a-f56ff103b7fd",
   "metadata": {},
   "outputs": [],
   "source": [
    "data_dir = '/Users/deepakduggirala/Documents/ELPephant-cropped'"
   ]
  },
  {
   "cell_type": "code",
   "execution_count": 7,
   "id": "21af5dcc-8eb1-459e-a5cc-da7ce62d7a3b",
   "metadata": {},
   "outputs": [],
   "source": [
    "cache_files = {\n",
    "        'train': 'train.cache',\n",
    "        'val': 'val.cache'\n",
    "    }"
   ]
  },
  {
   "cell_type": "code",
   "execution_count": 16,
   "id": "9f1b8425-e554-4815-b207-af7a8f6c06fb",
   "metadata": {},
   "outputs": [
    {
     "name": "stdout",
     "output_type": "stream",
     "text": [
      "reading Tensor(\"args_0:0\", shape=(), dtype=string)\n",
      "reading Tensor(\"args_0:0\", shape=(), dtype=string)\n"
     ]
    }
   ],
   "source": [
    "train_ds, N_train = get_dataset(get_ELEP_images_and_labels, params, data_dir, 'train', cache_files)\n",
    "val_ds, N_val = get_dataset(get_ELEP_images_and_labels, params, data_dir, 'val', cache_files)"
   ]
  },
  {
   "cell_type": "code",
   "execution_count": 17,
   "id": "5a45c72f-284f-4dd2-ab90-e464569a990b",
   "metadata": {},
   "outputs": [],
   "source": [
    "class SiameseModel(Model):\n",
    "    def __init__(self, params, finetune):\n",
    "        super().__init__()\n",
    "        self.params = params\n",
    "        self.finetune = finetune\n",
    "        self.siamese_network = get_model(params, finetune)\n",
    "        self.custom_loss = batch_all_triplet_loss\n",
    "        self.val_metric = val\n",
    "        self.far_metric = far\n",
    "        self.loss_tracker = metrics.Mean(name=\"loss\")\n",
    "        self.val_rate_tracker = metrics.Mean(name=\"VAL\")\n",
    "        self.far_rate_tracker = metrics.Mean(name=\"FAR\")\n",
    "\n",
    "    def call(self, inputs):\n",
    "        return self.siamese_network(inputs)\n",
    "\n",
    "    def train_step(self, data):\n",
    "        images, labels = data\n",
    "        with tf.GradientTape() as tape:\n",
    "            loss, embeddings = self._compute_loss(images, labels) \n",
    "            loss = loss + sum(self.siamese_network.losses)\n",
    "\n",
    "        # Storing the gradients of the loss function with respect to the\n",
    "        # weights/parameters.\n",
    "        gradients = tape.gradient(loss, self.siamese_network.trainable_weights)\n",
    "\n",
    "        # Applying the gradients on the model using the specified optimizer\n",
    "        self.optimizer.apply_gradients(\n",
    "            zip(gradients, self.siamese_network.trainable_weights)\n",
    "        )\n",
    "        \n",
    "        val_rate = self.val_metric(labels, embeddings, d=self.params['val_rate_d'],  squared=self.params['squared'])\n",
    "        self.val_rate_tracker.update_state(val_rate)\n",
    "        \n",
    "        far_rate = self.far_metric(labels, embeddings, d=self.params['val_rate_d'],  squared=self.params['squared'])\n",
    "        self.far_rate_tracker.update_state(far_rate)\n",
    "\n",
    "        # Let's update and return the training loss metric.\n",
    "        self.loss_tracker.update_state(loss)\n",
    "        return {\"loss\": self.loss_tracker.result(), \"VAL\": self.val_rate_tracker.result(), \"FAR\": self.far_rate_tracker.result()}\n",
    "\n",
    "    def test_step(self, data):\n",
    "        images, labels = data\n",
    "        loss, embeddings = self._compute_loss(images, labels)\n",
    "\n",
    "        # tf.print(tf.norm(embeddings, axis=1))\n",
    "        \n",
    "        val_rate = self.val_metric(labels, embeddings, d=self.params['val_rate_d'],  squared=self.params['squared'])\n",
    "        self.val_rate_tracker.update_state(val_rate)\n",
    "        \n",
    "        far_rate = self.far_metric(labels, embeddings, d=self.params['val_rate_d'],  squared=self.params['squared'])\n",
    "        self.far_rate_tracker.update_state(far_rate)\n",
    "        \n",
    "        # Let's update and return the loss metric.\n",
    "        self.loss_tracker.update_state(loss)\n",
    "        return {\"loss\": self.loss_tracker.result(), \"VAL\": self.val_rate_tracker.result(), \"FAR\": self.far_rate_tracker.result()}\n",
    "\n",
    "    def _compute_loss(self, images, labels):\n",
    "        embeddings = self.siamese_network(images)\n",
    "        embeddings = tf.math.l2_normalize(embeddings, axis=1, epsilon=1e-10)\n",
    "        \n",
    "        return self.custom_loss(labels, embeddings, self.params['margin'], self.params['squared']), embeddings"
   ]
  },
  {
   "cell_type": "code",
   "execution_count": null,
   "id": "6aac7294-4c08-450a-a2c4-29779ca8139a",
   "metadata": {},
   "outputs": [],
   "source": []
  },
  {
   "cell_type": "code",
   "execution_count": null,
   "id": "d937a2e6-8754-4683-b5c0-7cd0aa4c5e16",
   "metadata": {},
   "outputs": [],
   "source": []
  },
  {
   "cell_type": "code",
   "execution_count": 18,
   "id": "fc283989-0421-45e1-a6df-93ea7b83814a",
   "metadata": {},
   "outputs": [],
   "source": [
    "siamese_model = SiameseModel(params, False)\n",
    "siamese_model.compile(optimizer=optimizers.Adam(params['lr']))"
   ]
  },
  {
   "cell_type": "code",
   "execution_count": 19,
   "id": "a42aa9ee-cea1-4caf-aeab-e7879a13ce50",
   "metadata": {},
   "outputs": [
    {
     "name": "stdout",
     "output_type": "stream",
     "text": [
      "Epoch 1/4\n",
      "1/1 [==============================] - 7s 7s/step - loss: 0.3985 - VAL: 0.5455 - FAR: 0.6656 - val_loss: 0.2430 - val_VAL: 0.9167 - val_FAR: 0.8452\n",
      "Epoch 2/4\n",
      "1/1 [==============================] - 6s 6s/step - loss: 0.4173 - VAL: 0.5000 - FAR: 0.7019 - val_loss: 0.2323 - val_VAL: 0.9259 - val_FAR: 0.7179\n",
      "Epoch 3/4\n",
      "1/1 [==============================] - 5s 5s/step - loss: 0.3468 - VAL: 1.0000 - FAR: 0.6470 - val_loss: 0.2138 - val_VAL: 0.9697 - val_FAR: 0.7466\n",
      "Epoch 4/4\n",
      "1/1 [==============================] - 5s 5s/step - loss: 0.3162 - VAL: 1.0000 - FAR: 0.7063 - val_loss: 0.2346 - val_VAL: 0.8077 - val_FAR: 0.8048\n"
     ]
    },
    {
     "data": {
      "text/plain": [
       "<keras.callbacks.History at 0x15a1d1d30>"
      ]
     },
     "execution_count": 19,
     "metadata": {},
     "output_type": "execute_result"
    }
   ],
   "source": [
    "siamese_model.fit(train_ds.take(1),\n",
    "                      epochs=4,\n",
    "                      validation_data=val_ds.take(1))"
   ]
  },
  {
   "cell_type": "code",
   "execution_count": null,
   "id": "5299348f-894c-4077-8326-d638bb5883f8",
   "metadata": {},
   "outputs": [],
   "source": []
  },
  {
   "cell_type": "code",
   "execution_count": 28,
   "id": "67ceb0fe-c38a-495a-8e68-2ac6ff642dd5",
   "metadata": {},
   "outputs": [],
   "source": [
    "images, labels = next(val_ds.as_numpy_iterator())"
   ]
  },
  {
   "cell_type": "code",
   "execution_count": 29,
   "id": "3d86ac12-f73a-4093-b473-a962b8357a7e",
   "metadata": {},
   "outputs": [],
   "source": [
    "tf_images = tf.convert_to_tensor(images)\n",
    "tf_labels = tf.convert_to_tensor(labels)"
   ]
  },
  {
   "cell_type": "code",
   "execution_count": 30,
   "id": "b895e2b1-fc9b-4a0d-84c1-ae1c71690445",
   "metadata": {},
   "outputs": [
    {
     "data": {
      "text/plain": [
       "(TensorShape([50, 256, 256, 3]), TensorShape([50]))"
      ]
     },
     "execution_count": 30,
     "metadata": {},
     "output_type": "execute_result"
    }
   ],
   "source": [
    "tf_images.shape, tf_labels.shape"
   ]
  },
  {
   "cell_type": "code",
   "execution_count": null,
   "id": "7ecaf27e-7370-4695-b427-b5c68277fbd7",
   "metadata": {},
   "outputs": [],
   "source": []
  },
  {
   "cell_type": "code",
   "execution_count": 31,
   "id": "cf83b037-f068-4e42-b63d-c288fca300c1",
   "metadata": {},
   "outputs": [],
   "source": [
    "embeddings = siamese_model.siamese_network(images)"
   ]
  },
  {
   "cell_type": "code",
   "execution_count": 32,
   "id": "27ace550-d92d-45b5-bdbc-35af53be76fa",
   "metadata": {},
   "outputs": [
    {
     "data": {
      "text/plain": [
       "TensorShape([50, 256])"
      ]
     },
     "execution_count": 32,
     "metadata": {},
     "output_type": "execute_result"
    }
   ],
   "source": [
    "tf_embeddings = tf.convert_to_tensor(embeddings)\n",
    "tf_embeddings.shape"
   ]
  },
  {
   "cell_type": "code",
   "execution_count": null,
   "id": "391356ad-cfaf-46c9-9ee2-f61d57114c3b",
   "metadata": {},
   "outputs": [],
   "source": []
  },
  {
   "cell_type": "code",
   "execution_count": null,
   "id": "809d8064-51ab-4f95-b9c3-65d1c078d72c",
   "metadata": {},
   "outputs": [],
   "source": []
  },
  {
   "cell_type": "code",
   "execution_count": 102,
   "id": "3b580005-fcea-4f89-9d5b-63fee11fb4a7",
   "metadata": {},
   "outputs": [],
   "source": [
    "pairwise_dist = _pairwise_distances(tf_embeddings_norm, squared=False)"
   ]
  },
  {
   "cell_type": "code",
   "execution_count": 103,
   "id": "abacacdb-0629-44e2-aa13-08867746e90e",
   "metadata": {},
   "outputs": [
    {
     "data": {
      "text/plain": [
       "<tf.Tensor: shape=(50, 50), dtype=float32, numpy=\n",
       "array([[0.        , 0.68123555, 0.70504946, ..., 0.70138097, 0.8714106 ,\n",
       "        0.93182284],\n",
       "       [0.68123555, 0.        , 0.7360683 , ..., 0.77634454, 0.88125825,\n",
       "        1.0584412 ],\n",
       "       [0.70504946, 0.7360683 , 0.        , ..., 0.70425594, 0.6904418 ,\n",
       "        0.859302  ],\n",
       "       ...,\n",
       "       [0.70138097, 0.77634454, 0.70425594, ..., 0.        , 0.71575445,\n",
       "        1.0140395 ],\n",
       "       [0.8714106 , 0.88125825, 0.6904418 , ..., 0.71575445, 0.        ,\n",
       "        0.96042514],\n",
       "       [0.93182284, 1.0584412 , 0.859302  , ..., 1.0140394 , 0.96042514,\n",
       "        0.        ]], dtype=float32)>"
      ]
     },
     "execution_count": 103,
     "metadata": {},
     "output_type": "execute_result"
    }
   ],
   "source": [
    "pairwise_dist"
   ]
  },
  {
   "cell_type": "code",
   "execution_count": 35,
   "id": "b3cf4ca3-8409-4f11-9206-23ea1b8dfb8a",
   "metadata": {},
   "outputs": [
    {
     "data": {
      "text/plain": [
       "<tf.Tensor: shape=(50,), dtype=string, numpy=\n",
       "array([b'3061', b'3134', b'5778', b'3061', b'842', b'1184', b'1890',\n",
       "       b'953', b'842', b'1890', b'866', b'4829', b'5061', b'101', b'1867',\n",
       "       b'1867', b'3134', b'770', b'5061', b'1450', b'3061', b'4254',\n",
       "       b'647', b'2281', b'5061', b'28', b'1994', b'5061', b'1595',\n",
       "       b'1469', b'842', b'4339', b'1248', b'3428', b'1146', b'379',\n",
       "       b'1469', b'647', b'2764', b'1248', b'2764', b'5061', b'3637',\n",
       "       b'4339', b'1214', b'4030', b'28', b'4030', b'5778', b'647'],\n",
       "      dtype=object)>"
      ]
     },
     "execution_count": 35,
     "metadata": {},
     "output_type": "execute_result"
    }
   ],
   "source": [
    "tf_labels"
   ]
  },
  {
   "cell_type": "code",
   "execution_count": 42,
   "id": "afd3c74e-fb6d-4fdc-9170-1056067a6bc6",
   "metadata": {},
   "outputs": [
    {
     "data": {
      "text/plain": [
       "<tf.Tensor: shape=(50, 50), dtype=float32, numpy=\n",
       "array([[0., 0., 0., ..., 0., 0., 0.],\n",
       "       [0., 0., 0., ..., 0., 0., 0.],\n",
       "       [0., 0., 0., ..., 0., 1., 0.],\n",
       "       ...,\n",
       "       [0., 0., 0., ..., 0., 0., 0.],\n",
       "       [0., 0., 1., ..., 0., 0., 0.],\n",
       "       [0., 0., 0., ..., 0., 0., 0.]], dtype=float32)>"
      ]
     },
     "execution_count": 42,
     "metadata": {},
     "output_type": "execute_result"
    }
   ],
   "source": [
    "mask_anchor_positive = _get_anchor_positive_triplet_mask(tf_labels)\n",
    "mask_anchor_positive = tf.cast(mask_anchor_positive, dtype=tf.float32)\n",
    "mask_anchor_positive"
   ]
  },
  {
   "cell_type": "code",
   "execution_count": 53,
   "id": "ea0d9d43-0f8e-403a-94fb-14c1d5b95819",
   "metadata": {},
   "outputs": [
    {
     "data": {
      "text/plain": [
       "<tf.Tensor: shape=(50, 50), dtype=float32, numpy=\n",
       "array([[0.      , 0.      , 0.      , ..., 0.      , 0.      , 0.      ],\n",
       "       [0.      , 0.      , 0.      , ..., 0.      , 0.      , 0.      ],\n",
       "       [0.      , 0.      , 0.      , ..., 0.      , 7.414732, 0.      ],\n",
       "       ...,\n",
       "       [0.      , 0.      , 0.      , ..., 0.      , 0.      , 0.      ],\n",
       "       [0.      , 0.      , 7.414732, ..., 0.      , 0.      , 0.      ],\n",
       "       [0.      , 0.      , 0.      , ..., 0.      , 0.      , 0.      ]],\n",
       "      dtype=float32)>"
      ]
     },
     "execution_count": 53,
     "metadata": {},
     "output_type": "execute_result"
    }
   ],
   "source": [
    "anchor_positive_dist = tf.multiply(mask_anchor_positive, pairwise_dist)\n",
    "anchor_positive_dist"
   ]
  },
  {
   "cell_type": "code",
   "execution_count": 58,
   "id": "7c1462af-adb9-4d89-bf0e-6f1eb2991f07",
   "metadata": {},
   "outputs": [],
   "source": [
    "valid_pairs = tf.reduce_sum(mask_anchor_positive)"
   ]
  },
  {
   "cell_type": "code",
   "execution_count": 89,
   "id": "f928f5a3-aaa0-4e53-b872-c27c37074377",
   "metadata": {},
   "outputs": [],
   "source": [
    "false_rejects = tf.reduce_sum(tf.cast(tf.greater(anchor_positive_dist, 100), dtype=tf.float32))"
   ]
  },
  {
   "cell_type": "code",
   "execution_count": 60,
   "id": "a07ac776-ba89-48a8-ba40-1541113333af",
   "metadata": {},
   "outputs": [
    {
     "data": {
      "text/plain": [
       "<tf.Tensor: shape=(), dtype=float32, numpy=0.0>"
      ]
     },
     "execution_count": 60,
     "metadata": {},
     "output_type": "execute_result"
    }
   ],
   "source": [
    "true_accepts = valid_pairs - false_rejects\n",
    "true_accepts/valid_pairs\n"
   ]
  },
  {
   "cell_type": "code",
   "execution_count": 104,
   "id": "9ba8ce82-f30e-47b3-b1b4-96ecaac91622",
   "metadata": {},
   "outputs": [],
   "source": [
    "def val(labels, embeddings, d, squared=False):\n",
    "    pairwise_dist = _pairwise_distances(embeddings, squared=squared)\n",
    "    mask_anchor_positive = _get_anchor_positive_triplet_mask(labels)\n",
    "    mask_anchor_positive = tf.cast(mask_anchor_positive, dtype=tf.float32)\n",
    "    anchor_positive_dist = tf.multiply(mask_anchor_positive, pairwise_dist)\n",
    "    \n",
    "    valid_pairs = tf.reduce_sum(mask_anchor_positive)\n",
    "    false_rejects = tf.reduce_sum(tf.cast(tf.greater(anchor_positive_dist, d), dtype=tf.float32))\n",
    "    true_accepts = valid_pairs - false_rejects\n",
    "    \n",
    "    # tf.print(valid_pairs, false_rejects, true_accepts)\n",
    "    \n",
    "    return true_accepts/valid_pairs"
   ]
  },
  {
   "cell_type": "code",
   "execution_count": 11,
   "id": "317798f0-36f5-4029-9645-dba14c336656",
   "metadata": {},
   "outputs": [],
   "source": [
    "def far(labels, embeddings, d, squared=False):\n",
    "    pairwise_dist = _pairwise_distances(embeddings, squared=squared)\n",
    "    mask_anchor_negative = _get_anchor_negative_triplet_mask(labels)\n",
    "    mask_anchor_negative = tf.cast(mask_anchor_negative, dtype=tf.float32)\n",
    "    anchor_negative_dist = tf.multiply(mask_anchor_negative, pairwise_dist)\n",
    "    \n",
    "    invalid_pairs = tf.reduce_sum(mask_anchor_negative)\n",
    "    true_reject = tf.reduce_sum(tf.cast(tf.greater(anchor_negative_dist, d), dtype=tf.float32))\n",
    "    false_accepts = invalid_pairs - true_reject\n",
    "    \n",
    "    # tf.print(valid_pairs, false_rejects, true_accepts)\n",
    "    \n",
    "    return false_accepts/invalid_pairs"
   ]
  },
  {
   "cell_type": "code",
   "execution_count": 101,
   "id": "b957eb98-b756-4098-8754-02962854c1a0",
   "metadata": {},
   "outputs": [
    {
     "name": "stdout",
     "output_type": "stream",
     "text": [
      "58 6 52\n"
     ]
    },
    {
     "data": {
      "text/plain": [
       "<tf.Tensor: shape=(), dtype=float32, numpy=0.8965517>"
      ]
     },
     "execution_count": 101,
     "metadata": {},
     "output_type": "execute_result"
    }
   ],
   "source": [
    "val(tf_labels, tf_embeddings_norm, 12)"
   ]
  },
  {
   "cell_type": "code",
   "execution_count": null,
   "id": "b84591e7-3f62-410d-a61f-b14f7fd4d131",
   "metadata": {},
   "outputs": [],
   "source": []
  },
  {
   "cell_type": "code",
   "execution_count": null,
   "id": "ddc511b7-c0c7-4836-987b-2ef72b1eb99e",
   "metadata": {},
   "outputs": [],
   "source": [
    "val()"
   ]
  },
  {
   "cell_type": "code",
   "execution_count": null,
   "id": "06f60193-b90f-41a9-8ad1-e78987879048",
   "metadata": {},
   "outputs": [],
   "source": []
  },
  {
   "cell_type": "code",
   "execution_count": null,
   "id": "b4d4558a-8a30-437d-beaa-ed7c3ff450ed",
   "metadata": {},
   "outputs": [],
   "source": []
  },
  {
   "cell_type": "code",
   "execution_count": 92,
   "id": "fed07b8f-d01d-46a7-ae9f-92767b36cf0f",
   "metadata": {},
   "outputs": [],
   "source": [
    "tf_embeddings_norm = tf.math.l2_normalize(tf_embeddings, axis=1, epsilon=1e-10)"
   ]
  },
  {
   "cell_type": "code",
   "execution_count": 93,
   "id": "b281c12a-8613-4e6e-b2a6-3fd877be606f",
   "metadata": {},
   "outputs": [
    {
     "data": {
      "text/plain": [
       "<tf.Tensor: shape=(50,), dtype=float32, numpy=\n",
       "array([0.99999994, 1.        , 1.0000001 , 1.        , 1.        ,\n",
       "       0.99999994, 1.        , 0.99999994, 0.99999994, 1.0000001 ,\n",
       "       1.        , 1.        , 1.        , 1.        , 1.        ,\n",
       "       0.99999994, 0.99999994, 0.9999999 , 0.9999999 , 0.9999999 ,\n",
       "       1.        , 0.99999994, 1.        , 0.99999994, 1.        ,\n",
       "       1.        , 1.        , 1.        , 0.99999994, 1.        ,\n",
       "       1.        , 1.        , 1.0000001 , 1.        , 1.        ,\n",
       "       1.        , 0.99999994, 0.99999994, 1.        , 0.99999994,\n",
       "       0.99999994, 1.        , 1.        , 1.        , 1.        ,\n",
       "       0.9999999 , 1.        , 0.99999994, 1.        , 1.        ],\n",
       "      dtype=float32)>"
      ]
     },
     "execution_count": 93,
     "metadata": {},
     "output_type": "execute_result"
    }
   ],
   "source": [
    "tf.norm(tf_embeddings_norm, axis=1)"
   ]
  }
 ],
 "metadata": {
  "kernelspec": {
   "display_name": "Python 3 (ipykernel)",
   "language": "python",
   "name": "python3"
  },
  "language_info": {
   "codemirror_mode": {
    "name": "ipython",
    "version": 3
   },
   "file_extension": ".py",
   "mimetype": "text/x-python",
   "name": "python",
   "nbconvert_exporter": "python",
   "pygments_lexer": "ipython3",
   "version": "3.9.10"
  }
 },
 "nbformat": 4,
 "nbformat_minor": 5
}
