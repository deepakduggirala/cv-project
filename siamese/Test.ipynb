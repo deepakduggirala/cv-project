{
 "cells": [
  {
   "cell_type": "code",
   "execution_count": 56,
   "id": "3805b25f-355a-46d4-8a91-f1755aa1819c",
   "metadata": {},
   "outputs": [],
   "source": [
    "import argparse\n",
    "import json\n",
    "import ssl\n",
    "import datetime\n",
    "import os\n",
    "import math\n",
    "\n",
    "import numpy as np\n",
    "import matplotlib.pyplot as plt\n",
    "\n",
    "from model import get_model\n",
    "from triplet_loss import batch_all_triplet_loss\n",
    "from data import get_zoo_elephants_images_and_labels, get_ELEP_images_and_labels\n",
    "\n",
    "import tensorflow as tf\n",
    "from tensorflow.keras import Model\n",
    "from tensorflow.keras import optimizers\n",
    "from tensorflow.keras import metrics\n",
    "from tensorflow.keras.models import load_model\n",
    "from tensorflow.keras.applications.resnet_v2 import preprocess_input"
   ]
  },
  {
   "cell_type": "code",
   "execution_count": 2,
   "id": "e15552b5-622f-40aa-9f81-627e64da50f5",
   "metadata": {},
   "outputs": [],
   "source": [
    " with open('hyperparameters/initial_run.json', 'rb') as f:\n",
    "        params = json.load(f)"
   ]
  },
  {
   "cell_type": "code",
   "execution_count": 3,
   "id": "4afb6bfe-dc4e-42a0-9b78-75726df76f14",
   "metadata": {},
   "outputs": [],
   "source": [
    "class SiameseModel(Model):\n",
    "    def __init__(self, params, finetune):\n",
    "        super().__init__()\n",
    "        self.params = params\n",
    "        self.finetune = finetune\n",
    "        self.siamese_network = get_model(params, finetune)\n",
    "        self.custom_loss = batch_all_triplet_loss\n",
    "        self.loss_tracker = metrics.Mean(name=\"loss\")\n",
    "\n",
    "    def call(self, inputs):\n",
    "        return self.siamese_network(inputs)\n",
    "\n",
    "    def train_step(self, data):\n",
    "        images, labels = data\n",
    "        with tf.GradientTape() as tape:\n",
    "            loss = self._compute_loss(images, labels)\n",
    "\n",
    "        # Storing the gradients of the loss function with respect to the\n",
    "        # weights/parameters.\n",
    "        gradients = tape.gradient(loss, self.siamese_network.trainable_weights)\n",
    "\n",
    "        # Applying the gradients on the model using the specified optimizer\n",
    "        self.optimizer.apply_gradients(\n",
    "            zip(gradients, self.siamese_network.trainable_weights)\n",
    "        )\n",
    "\n",
    "        # Let's update and return the training loss metric.\n",
    "        self.loss_tracker.update_state(loss)\n",
    "        return {\"loss\": self.loss_tracker.result()}\n",
    "\n",
    "    def test_step(self, data):\n",
    "        images, labels = data\n",
    "        loss = self._compute_loss(images, labels)\n",
    "\n",
    "        # Let's update and return the loss metric.\n",
    "        self.loss_tracker.update_state(loss)\n",
    "        return {\"loss\": self.loss_tracker.result()}\n",
    "\n",
    "    def _compute_loss(self, images, labels):\n",
    "        embeddings = self.siamese_network(images)\n",
    "        embeddings = tf.math.l2_normalize(embeddings, axis=1, epsilon=1e-10)\n",
    "        return self.custom_loss(labels, embeddings, self.params['margin'], self.params['squared'])"
   ]
  },
  {
   "cell_type": "code",
   "execution_count": 4,
   "id": "c447eea5-548f-41bc-8629-1e8a7274cb87",
   "metadata": {},
   "outputs": [],
   "source": [
    "siamese_model = SiameseModel(params, True)\n",
    "siamese_model.compile(optimizer=optimizers.Adam(params['lr']))"
   ]
  },
  {
   "cell_type": "code",
   "execution_count": 5,
   "id": "7e4a1e00-3703-48d1-a9e7-f6b1088e256d",
   "metadata": {},
   "outputs": [
    {
     "data": {
      "text/plain": [
       "<tensorflow.python.training.tracking.util.CheckpointLoadStatus at 0x137595b50>"
      ]
     },
     "execution_count": 5,
     "metadata": {},
     "output_type": "execute_result"
    }
   ],
   "source": [
    "siamese_model.load_weights('/Users/deepakduggirala/Downloads/best_weights')"
   ]
  },
  {
   "cell_type": "code",
   "execution_count": 6,
   "id": "5d816385-f08a-4924-93b0-63b58a7fbb09",
   "metadata": {},
   "outputs": [
    {
     "data": {
      "text/plain": [
       "TensorShape([None, 256])"
      ]
     },
     "execution_count": 6,
     "metadata": {},
     "output_type": "execute_result"
    }
   ],
   "source": [
    "input_shape=(None, params['image_size'], params['image_size'], 3)\n",
    "siamese_model.compute_output_shape(input_shape=input_shape)"
   ]
  },
  {
   "cell_type": "code",
   "execution_count": 7,
   "id": "cc050e7f-e34b-450e-af87-f1cf57070f30",
   "metadata": {
    "tags": []
   },
   "outputs": [
    {
     "name": "stdout",
     "output_type": "stream",
     "text": [
      "Model: \"siamese_model\"\n",
      "_________________________________________________________________\n",
      " Layer (type)                Output Shape              Param #   \n",
      "=================================================================\n",
      " model (Functional)          (None, 256)               24089344  \n",
      "                                                                 \n",
      "=================================================================\n",
      "Total params: 24,089,346\n",
      "Trainable params: 9,457,920\n",
      "Non-trainable params: 14,631,426\n",
      "_________________________________________________________________\n"
     ]
    }
   ],
   "source": [
    "siamese_model.summary()"
   ]
  },
  {
   "cell_type": "code",
   "execution_count": 8,
   "id": "d43def89-8727-44ee-a37d-49bf75a994ae",
   "metadata": {},
   "outputs": [
    {
     "name": "stdout",
     "output_type": "stream",
     "text": [
      "Model: \"model\"\n",
      "_________________________________________________________________\n",
      " Layer (type)                Output Shape              Param #   \n",
      "=================================================================\n",
      " input_2 (InputLayer)        [(None, 256, 256, 3)]     0         \n",
      "                                                                 \n",
      " resnet50v2 (Functional)     (None, 2048)              23564800  \n",
      "                                                                 \n",
      " dense (Dense)               (None, 256)               524544    \n",
      "                                                                 \n",
      "=================================================================\n",
      "Total params: 24,089,344\n",
      "Trainable params: 9,457,920\n",
      "Non-trainable params: 14,631,424\n",
      "_________________________________________________________________\n"
     ]
    }
   ],
   "source": [
    "siamese_model.siamese_network.summary()"
   ]
  },
  {
   "cell_type": "code",
   "execution_count": 9,
   "id": "a8c6cd13-825f-47d6-bb94-a43a8e040e6f",
   "metadata": {},
   "outputs": [],
   "source": [
    "def preprocess_image(image, image_size):\n",
    "    image = tf.image.resize(image, [image_size, image_size])\n",
    "    image = preprocess_input(image)\n",
    "    return image"
   ]
  },
  {
   "cell_type": "code",
   "execution_count": 10,
   "id": "836ddf44-820e-4b02-823c-574ca8c848dd",
   "metadata": {},
   "outputs": [],
   "source": [
    "def parse_image_function(image_path, label, image_size):\n",
    "    image_string = tf.io.read_file(image_path)\n",
    "    image = tf.image.decode_jpeg(image_string, channels=3)\n",
    "    image = preprocess_image(image, image_size)\n",
    "    return image, label"
   ]
  },
  {
   "cell_type": "code",
   "execution_count": 11,
   "id": "a609da96-56b7-42da-88a1-76f4454ec45b",
   "metadata": {},
   "outputs": [],
   "source": [
    "def get_dataset(f, params, dir_path):\n",
    "    image_paths, image_labels = f(dir_path)\n",
    "    N = len(image_labels)\n",
    "    AUTOTUNE = tf.data.experimental.AUTOTUNE\n",
    "    dataset = tf.data.Dataset.from_tensor_slices((image_paths, image_labels))\n",
    "    dataset = dataset.map(lambda x, y: parse_image_function(x, y, params['image_size']))\n",
    "    dataset = dataset.batch(params['batch_size']).prefetch(AUTOTUNE)\n",
    "    return dataset\n"
   ]
  },
  {
   "cell_type": "code",
   "execution_count": 12,
   "id": "60478568-0aa3-43c3-bf30-4ee1bf728407",
   "metadata": {},
   "outputs": [],
   "source": [
    "# get_zoo_elephants_images_and_labels, get_ELEP_images_and_labels\n",
    "tfds = get_dataset(get_ELEP_images_and_labels, params, '/Users/deepakduggirala/Documents/ELPephant-cropped')"
   ]
  },
  {
   "cell_type": "code",
   "execution_count": 13,
   "id": "47f92b0e-ea90-4b37-ad9a-4f951e29e614",
   "metadata": {},
   "outputs": [
    {
     "name": "stderr",
     "output_type": "stream",
     "text": [
      "2022-04-21 14:28:28.466146: W tensorflow/core/platform/profile_utils/cpu_utils.cc:128] Failed to get CPU frequency: 0 Hz\n"
     ]
    }
   ],
   "source": [
    "embeddings=[]\n",
    "all_labels = []\n",
    "m = siamese_model.siamese_network\n",
    "for images, labels in tfds.as_numpy_iterator():\n",
    "    em = m(images)\n",
    "    embeddings.append(em)\n",
    "    all_labels.append(labels)"
   ]
  },
  {
   "cell_type": "code",
   "execution_count": null,
   "id": "fefb6caf-8cfe-4946-81ab-22676531b3d3",
   "metadata": {},
   "outputs": [],
   "source": []
  },
  {
   "cell_type": "code",
   "execution_count": 14,
   "id": "0d1eddb0-f1af-4feb-a389-b42e426ef3f7",
   "metadata": {},
   "outputs": [
    {
     "data": {
      "text/plain": [
       "TensorShape([2075, 256])"
      ]
     },
     "execution_count": 14,
     "metadata": {},
     "output_type": "execute_result"
    }
   ],
   "source": [
    "embeddings = tf.concat(embeddings,0)\n",
    "embeddings.shape"
   ]
  },
  {
   "cell_type": "code",
   "execution_count": 15,
   "id": "c8b54079-6ae6-4652-84e8-244f1fcabb49",
   "metadata": {},
   "outputs": [
    {
     "data": {
      "text/plain": [
       "TensorShape([2075])"
      ]
     },
     "execution_count": 15,
     "metadata": {},
     "output_type": "execute_result"
    }
   ],
   "source": [
    "all_labels = tf.concat(all_labels, 0)\n",
    "all_labels.shape"
   ]
  },
  {
   "cell_type": "code",
   "execution_count": 73,
   "id": "91163cc7-5a77-400e-9682-c5ae70c50ba0",
   "metadata": {},
   "outputs": [],
   "source": [
    "# embeddings = embeddings.numpy()\n",
    "labels = all_labels.numpy()"
   ]
  },
  {
   "cell_type": "code",
   "execution_count": 23,
   "id": "27965086-4664-404f-9f78-2b65f7cf215a",
   "metadata": {},
   "outputs": [],
   "source": [
    "unique_identities = list(set(all_labels.numpy()))"
   ]
  },
  {
   "cell_type": "code",
   "execution_count": 51,
   "id": "461bff8c-3108-4822-a5d7-2ef119603d37",
   "metadata": {},
   "outputs": [
    {
     "data": {
      "text/plain": [
       "[b'3883', b'3337', b'3480']"
      ]
     },
     "execution_count": 51,
     "metadata": {},
     "output_type": "execute_result"
    }
   ],
   "source": [
    "unique_identities[0:3]"
   ]
  },
  {
   "cell_type": "code",
   "execution_count": 42,
   "id": "4b7ea655-9a80-4f3b-8e45-057617645c0b",
   "metadata": {},
   "outputs": [],
   "source": [
    "norm_emb = embeddings / np.linalg.norm(embeddings, axis=1, keepdims=1)"
   ]
  },
  {
   "cell_type": "code",
   "execution_count": 52,
   "id": "7a35e8fb-2343-4bf8-9b0f-abd7e52b8e73",
   "metadata": {},
   "outputs": [],
   "source": [
    "idx = np.where((labels == b'3883') | (labels == b'3337') | (labels == b'3480'))[0]\n",
    "emb_elep = norm_emb[idx]"
   ]
  },
  {
   "cell_type": "code",
   "execution_count": 80,
   "id": "cd45b78e-79e6-448d-abc7-57aa888a7f45",
   "metadata": {},
   "outputs": [],
   "source": [
    "pts = ['3883']*np.sum(labels == b'3883') + ['3337']*np.sum(labels == b'3337') + ['3480']*np.sum(labels == b'3480')"
   ]
  },
  {
   "cell_type": "code",
   "execution_count": 71,
   "id": "952ad79d-8055-409d-94ca-5d2b84fcf143",
   "metadata": {},
   "outputs": [
    {
     "data": {
      "text/plain": [
       "0"
      ]
     },
     "execution_count": 71,
     "metadata": {},
     "output_type": "execute_result"
    }
   ],
   "source": [
    "np.sum(labels == b'3883')"
   ]
  },
  {
   "cell_type": "code",
   "execution_count": 119,
   "id": "62ab82aa-d573-463f-979f-9bd6c0f21585",
   "metadata": {},
   "outputs": [],
   "source": [
    "from sklearn.manifold import TSNE\n",
    "X_embedded = TSNE(n_components=2, learning_rate='auto', init='random').fit_transform(norm_emb)"
   ]
  },
  {
   "cell_type": "code",
   "execution_count": 120,
   "id": "960f6b9d-ba2f-4270-8b93-bb2122f0b3c0",
   "metadata": {},
   "outputs": [
    {
     "data": {
      "text/plain": [
       "<matplotlib.collections.PathCollection at 0x168e4df40>"
      ]
     },
     "execution_count": 120,
     "metadata": {},
     "output_type": "execute_result"
    },
    {
     "data": {
      "image/png": "[encoded data removed]",
      "text/plain": [
       "<Figure size 432x288 with 1 Axes>"
      ]
     },
     "metadata": {
      "needs_background": "light"
     },
     "output_type": "display_data"
    }
   ],
   "source": [
    "plt.scatter(X_embedded[:,0], X_embedded[:,1])\n",
    "\n",
    "# for i, label in enumerate(pts):\n",
    "#     plt.annotate(label, (X_embedded[i,0], X_embedded[i,1]))\n",
    "\n",
    "\n"
   ]
  },
  {
   "cell_type": "code",
   "execution_count": 345,
   "id": "f55b06e8-3f0b-405b-b004-ee4072c3c34e",
   "metadata": {},
   "outputs": [],
   "source": [
    "from sklearn.preprocessing import OrdinalEncoder\n",
    "sorted_labels = labels[np.argsort(labels)]\n",
    "enc = OrdinalEncoder()\n",
    "enc.fit(sorted_labels.reshape(-1,1))\n",
    "categories = enc.transform(sorted_labels.reshape(-1,1))\n",
    "#Create mask\n",
    "mask = (categories - categories.T == 0)"
   ]
  },
  {
   "cell_type": "code",
   "execution_count": 348,
   "id": "f686969a-bc10-4ba2-8d0c-835e7ca619aa",
   "metadata": {
    "tags": []
   },
   "outputs": [],
   "source": [
    "# Create Kernel Matrix\n",
    "emb_sorted = norm_emb[np.argsort(labels)]\n",
    "X_norm_sq = np.sum(emb_sorted**2, axis=1)\n",
    "K = X_norm_sq[:,np.newaxis] + X_norm_sq[np.newaxis, :] - 2*np.dot(emb_sorted, emb_sorted.T)\n",
    "N = emb_sorted.shape[0]\n",
    "d = 0.5"
   ]
  },
  {
   "cell_type": "code",
   "execution_count": 349,
   "id": "cf331c64-ac57-424c-946b-52fd02856537",
   "metadata": {},
   "outputs": [],
   "source": [
    "def get_VAL(K, mask, d):\n",
    "    TA = K[np.where(mask)] < d\n",
    "    return np.sum(TA)/TA.shape[0]   "
   ]
  },
  {
   "cell_type": "code",
   "execution_count": 350,
   "id": "be24f464-9845-4e33-b33d-5bf3d1163fd9",
   "metadata": {},
   "outputs": [],
   "source": [
    "def get_FAR(K, mask, d):\n",
    "    FA = K[np.where(~mask)] <= d\n",
    "    return np.sum(FA)/FA.shape[0]"
   ]
  },
  {
   "cell_type": "code",
   "execution_count": 351,
   "id": "8ed54c96-5e3d-4eaf-ad8b-be7f48872aa4",
   "metadata": {},
   "outputs": [
    {
     "data": {
      "text/plain": [
       "0.801545536433888"
      ]
     },
     "execution_count": 351,
     "metadata": {},
     "output_type": "execute_result"
    }
   ],
   "source": [
    "VAL = get_VAL(K, mask, d)\n",
    "VAL"
   ]
  },
  {
   "cell_type": "code",
   "execution_count": 352,
   "id": "b238a5f2-2142-4677-a01b-39b0b25beb85",
   "metadata": {},
   "outputs": [
    {
     "data": {
      "text/plain": [
       "0.038278159668313834"
      ]
     },
     "execution_count": 352,
     "metadata": {},
     "output_type": "execute_result"
    }
   ],
   "source": [
    "FAR = get_FAR(K, mask, d)\n",
    "FAR"
   ]
  },
  {
   "cell_type": "code",
   "execution_count": 353,
   "id": "ff3a2829-335e-49fb-b58d-d34a581e4073",
   "metadata": {},
   "outputs": [],
   "source": [
    "def get_TP(K, mask, d):\n",
    "    return np.sum(mask * (K <= d))\n",
    "\n",
    "def get_TN(K, mask, d):\n",
    "    return np.sum(~mask * (K > d))\n",
    "\n",
    "def get_accuracy(TP, TN, N):\n",
    "    return (TP+TN)/(N*N)"
   ]
  },
  {
   "cell_type": "code",
   "execution_count": 354,
   "id": "881ee92a-1c2f-4f83-b88a-75f61cb9898c",
   "metadata": {},
   "outputs": [
    {
     "data": {
      "text/plain": [
       "(16907, 4120528, 0.9609371461750617)"
      ]
     },
     "execution_count": 354,
     "metadata": {},
     "output_type": "execute_result"
    }
   ],
   "source": [
    "TP = get_TP(K, mask, d)\n",
    "TN = get_TN(K, mask, d)\n",
    "acc = get_accuracy(TP, TN, N)\n",
    "TP, TN, acc"
   ]
  },
  {
   "cell_type": "code",
   "execution_count": null,
   "id": "6c1483e4-7b0f-4f6b-a762-1559c5120ec9",
   "metadata": {},
   "outputs": [],
   "source": [
    "# R = np.random.randint(low=0, high=2, size=(N,N)).astype(np.bool8)\n",
    "# TP = np.sum(mask * R)\n",
    "# TN = np.sum(~mask * R)\n",
    "# (TP+TN)/(N*(N))"
   ]
  },
  {
   "cell_type": "code",
   "execution_count": 134,
   "id": "eeb2e070-3788-4136-9457-6ca5c7b5d088",
   "metadata": {},
   "outputs": [],
   "source": []
  },
  {
   "cell_type": "code",
   "execution_count": null,
   "id": "76ec127e-c244-49c0-9958-89be147ccf67",
   "metadata": {},
   "outputs": [],
   "source": []
  },
  {
   "cell_type": "code",
   "execution_count": 347,
   "id": "23a905ba-d5bf-4a2b-bc0c-a75a26ff648b",
   "metadata": {},
   "outputs": [],
   "source": [
    "# d = 0.5\n",
    "# p_same_idx = np.triu_indices(7, k = 1)\n",
    "# N = p_same_idx[0].shape[0]\n",
    "# np.sum(K[:7,:7][p_same_idx] < d)/N"
   ]
  },
  {
   "cell_type": "code",
   "execution_count": null,
   "id": "75588436-025a-4e38-814c-0a81e05c271b",
   "metadata": {},
   "outputs": [],
   "source": []
  },
  {
   "cell_type": "code",
   "execution_count": null,
   "id": "aa3b26af-e8c1-4903-b383-754e837f4fb8",
   "metadata": {},
   "outputs": [],
   "source": []
  },
  {
   "cell_type": "code",
   "execution_count": 342,
   "id": "02d6fbb2-c12d-4e77-b07e-1486a0fb38d9",
   "metadata": {},
   "outputs": [],
   "source": [
    "# N = categories.shape[0]\n",
    "# Z = np.zeros((N, N, 3), dtype=np.int32)\n",
    "# X, Y = np.meshgrid(np.arange(N), np.arange(N))\n",
    "# Z[:,:,0] = Y\n",
    "# Z[:,:,1] = X\n",
    "# Z[:,:, 2] = mask\n",
    "# ix, iy = np.triu_indices(N, k = 1)\n",
    "\n",
    "# tr_u = Z[ix, iy, :]\n",
    "\n",
    "# same_idx = tr_u[tr_u[:,2]==1, :2]\n",
    "# diff_idx = tr_u[tr_u[:,2]==0, :2]"
   ]
  },
  {
   "cell_type": "code",
   "execution_count": 296,
   "id": "aed2779c-b888-4c80-bad8-34e7b8f93393",
   "metadata": {},
   "outputs": [],
   "source": [
    "# same_idx"
   ]
  },
  {
   "cell_type": "code",
   "execution_count": 293,
   "id": "8171586f-5f49-4ffc-8b70-8312ef80befe",
   "metadata": {},
   "outputs": [],
   "source": [
    "# TA = K[same_idx[:,0], same_idx[:,1]] < d\n",
    "\n",
    "# VAL = np.sum(TA)/TA.shape[0]\n",
    "# VAL"
   ]
  },
  {
   "cell_type": "code",
   "execution_count": 294,
   "id": "5c1f5c10-1dfa-42c0-ae4d-3841566887fb",
   "metadata": {},
   "outputs": [],
   "source": [
    "# np.sum(TA), TA.shape[0]"
   ]
  },
  {
   "cell_type": "code",
   "execution_count": 295,
   "id": "272564bd-1dff-4150-86d3-a30a23b0fa90",
   "metadata": {},
   "outputs": [],
   "source": [
    "# FA = K[diff_idx[:,0], diff_idx[:,1]] <= d\n",
    "\n",
    "# FAR = np.sum(FA)/FA.shape[0]\n",
    "# FAR"
   ]
  },
  {
   "cell_type": "code",
   "execution_count": 297,
   "id": "a4a05ddc-a73a-48b7-bdc1-7c0fb8891e20",
   "metadata": {
    "tags": []
   },
   "outputs": [],
   "source": [
    "# np.sum(FA), FA.shape"
   ]
  },
  {
   "cell_type": "code",
   "execution_count": null,
   "id": "f30a098a-4eb4-4984-8593-932afb31813c",
   "metadata": {},
   "outputs": [],
   "source": []
  },
  {
   "cell_type": "code",
   "execution_count": null,
   "id": "a3411e49-3424-428b-8f5a-838c737b06ab",
   "metadata": {},
   "outputs": [],
   "source": []
  },
  {
   "cell_type": "code",
   "execution_count": null,
   "id": "6c28b4fb-d80a-4436-8c56-c1446f78260a",
   "metadata": {},
   "outputs": [],
   "source": []
  }
 ],
 "metadata": {
  "kernelspec": {
   "display_name": "Python 3 (ipykernel)",
   "language": "python",
   "name": "python3"
  },
  "language_info": {
   "codemirror_mode": {
    "name": "ipython",
    "version": 3
   },
   "file_extension": ".py",
   "mimetype": "text/x-python",
   "name": "python",
   "nbconvert_exporter": "python",
   "pygments_lexer": "ipython3",
   "version": "3.9.10"
  }
 },
 "nbformat": 4,
 "nbformat_minor": 5
}
