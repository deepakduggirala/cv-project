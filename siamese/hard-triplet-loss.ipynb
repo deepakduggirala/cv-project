{
 "cells": [
  {
   "cell_type": "code",
   "execution_count": 1,
   "id": "c408bb7e-920d-4680-a472-81b6b6cec4a6",
   "metadata": {},
   "outputs": [],
   "source": [
    "import os\n",
    "import json\n",
    "from pathlib import Path\n",
    "import datetime\n",
    "import math\n",
    "import numpy as np\n",
    "import matplotlib.pyplot as plt\n",
    "\n",
    "\n",
    "from data import get_dataset, get_zoo_elephants_images_and_labels, get_ELEP_images_and_labels, parse_image_function\n",
    "from train import SiameseModel\n",
    "import triplet_loss\n",
    "\n",
    "\n",
    "import tensorflow as tf\n",
    "from tensorflow.keras import optimizers\n",
    "\n",
    "from tensorflow.keras.applications.resnet_v2 import preprocess_input"
   ]
  },
  {
   "cell_type": "code",
   "execution_count": 19,
   "id": "92044d1a-17c4-4007-bcd8-6a159558900f",
   "metadata": {},
   "outputs": [
    {
     "data": {
      "text/plain": [
       "<module 'triplet_loss' from '/Users/deepakduggirala/Documents/project/siamese/triplet_loss.py'>"
      ]
     },
     "execution_count": 19,
     "metadata": {},
     "output_type": "execute_result"
    }
   ],
   "source": [
    "from importlib import reload\n",
    "reload(triplet_loss)"
   ]
  },
  {
   "cell_type": "code",
   "execution_count": 2,
   "id": "a0179bd2-232e-4b7a-aa8d-5adc59096ab9",
   "metadata": {},
   "outputs": [],
   "source": [
    "with open('hyperparameters/initial_run.json', 'rb') as f:\n",
    "    params = json.load(f)"
   ]
  },
  {
   "cell_type": "code",
   "execution_count": 3,
   "id": "03d9c36c-b398-42e8-89c5-6795c7dbee30",
   "metadata": {},
   "outputs": [],
   "source": [
    "params['batch_size']['train'] = 32\n",
    "params['batch_size']['val'] = 512"
   ]
  },
  {
   "cell_type": "code",
   "execution_count": 4,
   "id": "cc041c5e-f343-4b85-87e9-0de05d52f4cc",
   "metadata": {},
   "outputs": [],
   "source": [
    "data_dir = '/Users/deepakduggirala/Documents/ELPephant-cropped'"
   ]
  },
  {
   "cell_type": "code",
   "execution_count": 5,
   "id": "496ae5c8-7bf3-4f36-87fb-d22568a4262c",
   "metadata": {},
   "outputs": [],
   "source": [
    "cache_files = {\n",
    "        'train': str(Path(data_dir) / 'train.cache'),\n",
    "        'val': str(Path(data_dir) / 'val.cache')\n",
    "    }"
   ]
  },
  {
   "cell_type": "code",
   "execution_count": 6,
   "id": "a6130169-3509-431f-9f56-28ca76b9113d",
   "metadata": {},
   "outputs": [],
   "source": [
    "train_ds, N_train = get_dataset(get_ELEP_images_and_labels, params, data_dir, 'val', \n",
    "                                augment=True,\n",
    "                                cache_files=cache_files, \n",
    "                                model_preprocess=False, \n",
    "                                shuffle=True)\n",
    "# train_ds_aug, N_train = get_dataset(get_ELEP_images_and_labels, params, data_dir, 'val', \n",
    "#                                 augment=True,\n",
    "#                                 cache_files=None, \n",
    "#                                 model_preprocess=False, \n",
    "#                                 shuffle=False)"
   ]
  },
  {
   "cell_type": "code",
   "execution_count": 7,
   "id": "f6552a9d-7327-44a4-af14-b7df487fb834",
   "metadata": {},
   "outputs": [
    {
     "name": "stderr",
     "output_type": "stream",
     "text": [
      "2022-04-26 13:42:53.699857: W tensorflow/core/platform/profile_utils/cpu_utils.cc:128] Failed to get CPU frequency: 0 Hz\n"
     ]
    }
   ],
   "source": [
    "images, labels = next(train_ds.as_numpy_iterator())\n",
    "# images_aug, labels = next(train_ds_aug.as_numpy_iterator())"
   ]
  },
  {
   "cell_type": "code",
   "execution_count": 8,
   "id": "86be85e3-551a-4a54-b1c2-0775480de97a",
   "metadata": {},
   "outputs": [],
   "source": [
    "siamese_model = SiameseModel(params, False)"
   ]
  },
  {
   "cell_type": "code",
   "execution_count": 9,
   "id": "05157bd6-ab5a-4aeb-8f0a-30ad896031c8",
   "metadata": {},
   "outputs": [
    {
     "data": {
      "text/plain": [
       "TensorShape([None, 256])"
      ]
     },
     "execution_count": 9,
     "metadata": {},
     "output_type": "execute_result"
    }
   ],
   "source": [
    "siamese_model.compile(optimizer=optimizers.Adam(learning_rate=params['lr']))\n",
    "input_shape = (None, params['image_size'], params['image_size'], 3)\n",
    "siamese_model.compute_output_shape(input_shape=input_shape)"
   ]
  },
  {
   "cell_type": "code",
   "execution_count": 10,
   "id": "2f5777d9-7afd-4367-b0ab-fadb8b6874ad",
   "metadata": {},
   "outputs": [],
   "source": [
    "emb = siamese_model.predict(images)"
   ]
  },
  {
   "cell_type": "code",
   "execution_count": 11,
   "id": "8acd13a0-4d6f-4d67-87de-9df616f17d52",
   "metadata": {},
   "outputs": [],
   "source": [
    "emb = emb / np.linalg.norm(emb, axis=1, keepdims=1)"
   ]
  },
  {
   "cell_type": "code",
   "execution_count": 12,
   "id": "8d1d9a7a-025a-4cd5-9b77-6f9a2a7201e8",
   "metadata": {},
   "outputs": [],
   "source": [
    "tf_emb = tf.convert_to_tensor(emb.astype(np.float32))\n",
    "tf_labels = tf.convert_to_tensor(labels)"
   ]
  },
  {
   "cell_type": "code",
   "execution_count": 21,
   "id": "64f23070-4179-42e3-bf2f-5a4d69201851",
   "metadata": {},
   "outputs": [],
   "source": [
    "pairwise_dist = triplet_loss._pairwise_distances(tf_emb, squared=False)"
   ]
  },
  {
   "cell_type": "code",
   "execution_count": 22,
   "id": "4a939837-3ee7-40f6-9700-cfe9e139b705",
   "metadata": {},
   "outputs": [],
   "source": [
    "mask_anchor_positive = triplet_loss._get_anchor_positive_triplet_mask(labels)\n",
    "mask_anchor_positive = tf.cast(mask_anchor_positive, dtype=tf.float32)\n",
    "\n",
    "anchor_positive_dist = tf.multiply(mask_anchor_positive, pairwise_dist)"
   ]
  },
  {
   "cell_type": "code",
   "execution_count": 23,
   "id": "c4dd50dd-b48f-428e-b3d2-88d63999d762",
   "metadata": {},
   "outputs": [],
   "source": [
    "hardest_positive_dist = tf.reduce_max(anchor_positive_dist, axis=1, keepdims=True)"
   ]
  },
  {
   "cell_type": "code",
   "execution_count": 24,
   "id": "48b104ae-9473-4c3b-8337-93ed425d5946",
   "metadata": {},
   "outputs": [],
   "source": [
    "hard_positive_indices = tf.math.argmax(anchor_positive_dist, axis=1)"
   ]
  },
  {
   "cell_type": "code",
   "execution_count": 32,
   "id": "300c13a7-2d24-4be3-bce8-6afff1308c0e",
   "metadata": {},
   "outputs": [],
   "source": [
    "mask_anchor_negative = triplet_loss._get_anchor_negative_triplet_mask(labels)\n",
    "mask_anchor_negative = tf.cast(mask_anchor_negative, dtype=tf.float32)"
   ]
  },
  {
   "cell_type": "code",
   "execution_count": 33,
   "id": "2bb2bb72-3ab7-4c86-9c2c-5fd55fe4cda4",
   "metadata": {},
   "outputs": [],
   "source": [
    "max_anchor_negative_dist = tf.reduce_max(pairwise_dist, axis=1, keepdims=True)\n",
    "anchor_negative_dist = pairwise_dist + max_anchor_negative_dist * (1.0 - mask_anchor_negative)\n",
    "hardest_negative_dist = tf.reduce_min(anchor_negative_dist, axis=1, keepdims=True)"
   ]
  },
  {
   "cell_type": "code",
   "execution_count": 34,
   "id": "82041fc6-6495-458b-ba34-fa736fb32c6d",
   "metadata": {},
   "outputs": [],
   "source": [
    "triplet_loss = tf.maximum(hardest_positive_dist - hardest_negative_dist + 0.5, 0.0)"
   ]
  },
  {
   "cell_type": "code",
   "execution_count": 93,
   "id": "5baf294e-8ace-4d09-83d0-7c4536eb2a6b",
   "metadata": {},
   "outputs": [
    {
     "data": {
      "text/plain": [
       "<tf.Tensor: shape=(), dtype=float32, numpy=339.20908>"
      ]
     },
     "execution_count": 93,
     "metadata": {},
     "output_type": "execute_result"
    }
   ],
   "source": [
    "tf.reduce_sum(triplet_loss)"
   ]
  },
  {
   "cell_type": "code",
   "execution_count": 101,
   "id": "2ef480c4-9a74-41aa-82b5-fb2dba3f873c",
   "metadata": {},
   "outputs": [
    {
     "data": {
      "text/plain": [
       "<tf.Tensor: shape=(457, 457), dtype=float32, numpy=\n",
       "array([[0.        , 0.        , 0.        , ..., 0.        , 0.        ,\n",
       "        0.        ],\n",
       "       [0.        , 0.        , 0.24179254, ..., 0.        , 0.        ,\n",
       "        0.        ],\n",
       "       [0.        , 0.24179254, 0.        , ..., 0.        , 0.        ,\n",
       "        0.        ],\n",
       "       ...,\n",
       "       [0.        , 0.        , 0.        , ..., 0.        , 0.        ,\n",
       "        0.        ],\n",
       "       [0.        , 0.        , 0.        , ..., 0.        , 0.        ,\n",
       "        0.        ],\n",
       "       [0.        , 0.        , 0.        , ..., 0.        , 0.        ,\n",
       "        0.        ]], dtype=float32)>"
      ]
     },
     "execution_count": 101,
     "metadata": {},
     "output_type": "execute_result"
    }
   ],
   "source": [
    "anchor_positive_dist"
   ]
  },
  {
   "cell_type": "code",
   "execution_count": 112,
   "id": "a1e5d2cb-80d4-4780-8faf-d7e263e02c79",
   "metadata": {},
   "outputs": [
    {
     "data": {
      "text/plain": [
       "<tf.Tensor: shape=(), dtype=float32, numpy=4690.0>"
      ]
     },
     "execution_count": 112,
     "metadata": {},
     "output_type": "execute_result"
    }
   ],
   "source": [
    "tf.reduce_sum(mask_anchor_positive)"
   ]
  },
  {
   "cell_type": "code",
   "execution_count": null,
   "id": "8b809537-dd35-43dd-ac8a-e8730619932a",
   "metadata": {},
   "outputs": [],
   "source": [
    "anchor_positive_dist - (hardest_negative_dist * mask_anchor_positive)"
   ]
  },
  {
   "cell_type": "code",
   "execution_count": 115,
   "id": "e21eda89-0aac-40c5-9e38-773a989860f3",
   "metadata": {},
   "outputs": [
    {
     "data": {
      "text/plain": [
       "<tf.Tensor: shape=(), dtype=float32, numpy=2966.9807>"
      ]
     },
     "execution_count": 115,
     "metadata": {},
     "output_type": "execute_result"
    }
   ],
   "source": [
    "tf.reduce_sum(tf.maximum(anchor_positive_dist - (hardest_negative_dist * mask_anchor_positive) + 0.5 * mask_anchor_positive, 0.0))"
   ]
  },
  {
   "cell_type": "code",
   "execution_count": null,
   "id": "fea05d72-83b0-4b44-a2c7-ac151d588963",
   "metadata": {},
   "outputs": [],
   "source": []
  },
  {
   "cell_type": "code",
   "execution_count": null,
   "id": "c5648b42-d6ea-4ba9-b30f-bcc537329e0f",
   "metadata": {},
   "outputs": [],
   "source": []
  },
  {
   "cell_type": "code",
   "execution_count": 16,
   "id": "913fdbc7-6ac7-4a15-87fc-3230aec09942",
   "metadata": {},
   "outputs": [
    {
     "data": {
      "text/plain": [
       "<tf.Tensor: shape=(), dtype=float32, numpy=0.74140745>"
      ]
     },
     "execution_count": 16,
     "metadata": {},
     "output_type": "execute_result"
    }
   ],
   "source": [
    "triplet_loss.batch_hard_triplet_loss(tf_labels, tf_emb, margin=0.5, squared=False)"
   ]
  },
  {
   "cell_type": "code",
   "execution_count": 18,
   "id": "24848ec6-d4cf-4f74-a4fd-49a3ff93628f",
   "metadata": {},
   "outputs": [
    {
     "data": {
      "text/plain": [
       "<tf.Tensor: shape=(), dtype=float32, numpy=0.07224376>"
      ]
     },
     "execution_count": 18,
     "metadata": {},
     "output_type": "execute_result"
    }
   ],
   "source": [
    "triplet_loss.batch_hard_triplet_loss(tf_labels, tf_emb, margin=0.5, squared=False)"
   ]
  },
  {
   "cell_type": "code",
   "execution_count": 20,
   "id": "052da5a3-6bb4-426a-8b71-13d768733948",
   "metadata": {},
   "outputs": [
    {
     "data": {
      "text/plain": [
       "<tf.Tensor: shape=(), dtype=float32, numpy=0.6342425>"
      ]
     },
     "execution_count": 20,
     "metadata": {},
     "output_type": "execute_result"
    }
   ],
   "source": [
    "triplet_loss.batch_partial_hard_triplet_loss(tf_labels, tf_emb, margin=0.5, squared=False)"
   ]
  },
  {
   "cell_type": "code",
   "execution_count": null,
   "id": "f547d41c-e7fb-4cae-ae8f-9029ac125ce8",
   "metadata": {},
   "outputs": [],
   "source": []
  },
  {
   "cell_type": "code",
   "execution_count": 31,
   "id": "03b5c491-e484-4b6b-84c8-144ff19fdcc2",
   "metadata": {},
   "outputs": [
    {
     "data": {
      "text/plain": [
       "172"
      ]
     },
     "execution_count": 31,
     "metadata": {},
     "output_type": "execute_result"
    }
   ],
   "source": [
    "np.argmin(np.sum(mask_anchor_positive.numpy(),axis=1))"
   ]
  },
  {
   "cell_type": "code",
   "execution_count": 36,
   "id": "dd048933-5d62-4bcd-94cd-6eb60ea5cc6e",
   "metadata": {},
   "outputs": [
    {
     "data": {
      "text/plain": [
       "<tf.Tensor: shape=(1,), dtype=float32, numpy=array([0.40069026], dtype=float32)>"
      ]
     },
     "execution_count": 36,
     "metadata": {},
     "output_type": "execute_result"
    }
   ],
   "source": [
    "triplet_loss[172]"
   ]
  }
 ],
 "metadata": {
  "kernelspec": {
   "display_name": "Python 3 (ipykernel)",
   "language": "python",
   "name": "python3"
  },
  "language_info": {
   "codemirror_mode": {
    "name": "ipython",
    "version": 3
   },
   "file_extension": ".py",
   "mimetype": "text/x-python",
   "name": "python",
   "nbconvert_exporter": "python",
   "pygments_lexer": "ipython3",
   "version": "3.9.10"
  }
 },
 "nbformat": 4,
 "nbformat_minor": 5
}
