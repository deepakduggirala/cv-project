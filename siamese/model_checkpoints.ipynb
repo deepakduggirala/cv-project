{
 "cells": [
  {
   "cell_type": "code",
   "execution_count": 1,
   "id": "937b11a6-51ca-4ff5-97f1-3ff74aabe1f9",
   "metadata": {},
   "outputs": [],
   "source": [
    "import os\n",
    "import json\n",
    "from pathlib import Path\n",
    "import datetime\n",
    "import math\n",
    "import numpy as np\n",
    "import matplotlib.pyplot as plt\n",
    "\n",
    "\n",
    "from data import get_dataset, get_zoo_elephants_images_and_labels, get_ELEP_images_and_labels\n",
    "from train import SiameseModel\n",
    "\n",
    "\n",
    "import tensorflow as tf\n",
    "from tensorflow.keras import optimizers"
   ]
  },
  {
   "cell_type": "code",
   "execution_count": 2,
   "id": "856cbddd-fb72-4f34-bea2-6a6a64913be5",
   "metadata": {},
   "outputs": [],
   "source": [
    "with open('hyperparameters/initial_run.json', 'rb') as f:\n",
    "    params = json.load(f)"
   ]
  },
  {
   "cell_type": "code",
   "execution_count": 3,
   "id": "2d1885e2-286f-4b6e-b67c-04ec00cb83ec",
   "metadata": {},
   "outputs": [],
   "source": [
    "params['batch_size'] = 5\n",
    "params['val_batch_size'] = 5"
   ]
  },
  {
   "cell_type": "code",
   "execution_count": 4,
   "id": "1aeb2884-d24a-489d-851f-e1707cc92d1f",
   "metadata": {},
   "outputs": [],
   "source": [
    "data_dir = '/Users/deepakduggirala/Documents/ELPephant-cropped'"
   ]
  },
  {
   "cell_type": "code",
   "execution_count": 5,
   "id": "83be336f-5be9-4076-b724-70919cc89398",
   "metadata": {},
   "outputs": [],
   "source": [
    "cache_files = {\n",
    "        'train': 'ELP_train.cache',\n",
    "        'val': 'ELP_val.cache'\n",
    "    }\n",
    "train_ds, val_ds, N = get_dataset(get_ELEP_images_and_labels, params, data_dir, cache_files)"
   ]
  },
  {
   "cell_type": "code",
   "execution_count": null,
   "id": "d8b5754c-2bdc-46a8-9435-89c9ebc48081",
   "metadata": {},
   "outputs": [],
   "source": []
  },
  {
   "cell_type": "code",
   "execution_count": 6,
   "id": "7d0fed84-dfcf-44fd-b3d4-ff30f9aef40a",
   "metadata": {},
   "outputs": [
    {
     "data": {
      "text/plain": [
       "TensorShape([None, 256])"
      ]
     },
     "execution_count": 6,
     "metadata": {},
     "output_type": "execute_result"
    }
   ],
   "source": [
    "siamese_model = SiameseModel(params, True)\n",
    "siamese_model.compile(optimizer=optimizers.Adam(params['lr']))\n",
    "input_shape = (None, params['image_size'], params['image_size'], 3)\n",
    "siamese_model.compute_output_shape(input_shape=input_shape)"
   ]
  },
  {
   "cell_type": "code",
   "execution_count": 9,
   "id": "d75fd973-2404-4101-b261-c5a94038bf47",
   "metadata": {},
   "outputs": [
    {
     "data": {
      "text/plain": [
       "<tensorflow.python.training.tracking.util.CheckpointLoadStatus at 0x16989faf0>"
      ]
     },
     "execution_count": 9,
     "metadata": {},
     "output_type": "execute_result"
    }
   ],
   "source": [
    "siamese_model.load_weights('best_weights/20220422-002754/weights.ckpt')"
   ]
  },
  {
   "cell_type": "code",
   "execution_count": 11,
   "id": "c5db3b28-3e06-4cbc-8c55-e86fc01808bf",
   "metadata": {},
   "outputs": [
    {
     "data": {
      "text/plain": [
       "'best_weights/20220422-002754/weights.ckpt'"
      ]
     },
     "execution_count": 11,
     "metadata": {},
     "output_type": "execute_result"
    }
   ],
   "source": [
    "str(Path('best_weights/20220422-002754/') / 'weights.ckpt')"
   ]
  },
  {
   "cell_type": "code",
   "execution_count": null,
   "id": "70c5bda5-04bf-4ffd-9748-3b6a7a22427a",
   "metadata": {},
   "outputs": [],
   "source": []
  },
  {
   "cell_type": "code",
   "execution_count": null,
   "id": "9c444f00-0b56-4c4f-813c-dae62f4fdeb9",
   "metadata": {},
   "outputs": [],
   "source": []
  },
  {
   "cell_type": "code",
   "execution_count": 16,
   "id": "130f4fb6-9cb5-4d04-a923-4810dd951ca1",
   "metadata": {},
   "outputs": [
    {
     "data": {
      "text/plain": [
       "'20220422-002754'"
      ]
     },
     "execution_count": 16,
     "metadata": {},
     "output_type": "execute_result"
    }
   ],
   "source": [
    "RUN_DATETIME_STR = datetime.datetime.now().strftime(\"%Y%m%d-%H%M%S\")\n",
    "RUN_DATETIME_STR"
   ]
  },
  {
   "cell_type": "code",
   "execution_count": 17,
   "id": "a11d1d2d-79d3-4fff-911a-34bca910dbea",
   "metadata": {},
   "outputs": [],
   "source": [
    "filepath = Path('best_weights') / RUN_DATETIME_STR / 'weights.ckpt'"
   ]
  },
  {
   "cell_type": "code",
   "execution_count": 18,
   "id": "9a28824d-6b04-4247-8961-9b60a002744d",
   "metadata": {},
   "outputs": [],
   "source": [
    "filepath.parent.mkdir(parents=True, exist_ok=True)"
   ]
  },
  {
   "cell_type": "code",
   "execution_count": 19,
   "id": "8b9fe35a-ed00-4b08-9568-40b08d2590f2",
   "metadata": {},
   "outputs": [],
   "source": [
    "best_cp_callback = tf.keras.callbacks.ModelCheckpoint(\n",
    "    monitor='val_loss',\n",
    "    filepath=filepath,\n",
    "    save_weights_only=True,\n",
    "    verbose=1,\n",
    "    mode='min',\n",
    "    save_best_only=True)"
   ]
  },
  {
   "cell_type": "code",
   "execution_count": 25,
   "id": "f5fe5dae-e933-45c5-a8bc-179f6eabf987",
   "metadata": {},
   "outputs": [],
   "source": [
    "filepath = Path('latest_models') / RUN_DATETIME_STR / 'model.ckpt'\n",
    "filepath.parent.mkdir(parents=True, exist_ok=True)\n",
    "latest_cp_callback = tf.keras.callbacks.ModelCheckpoint(\n",
    "    monitor='val_loss',\n",
    "    filepath=filepath,\n",
    "    save_weights_only=False,\n",
    "    verbose=1)"
   ]
  },
  {
   "cell_type": "code",
   "execution_count": 26,
   "id": "8ae010ca-2408-4282-a233-0362a96a3180",
   "metadata": {},
   "outputs": [
    {
     "name": "stdout",
     "output_type": "stream",
     "text": [
      "1/1 [==============================] - ETA: 0s - loss: 0.0000e+00\n",
      "Epoch 00001: saving model to latest_models/20220422-002754/model.ckpt\n"
     ]
    },
    {
     "name": "stderr",
     "output_type": "stream",
     "text": [
      "2022-04-22 00:29:39.583171: W tensorflow/python/util/util.cc:368] Sets are not currently considered sequences, but this may change in the future, so consider avoiding using them.\n"
     ]
    },
    {
     "name": "stdout",
     "output_type": "stream",
     "text": [
      "INFO:tensorflow:Assets written to: latest_models/20220422-002754/model.ckpt/assets\n"
     ]
    },
    {
     "name": "stderr",
     "output_type": "stream",
     "text": [
      "/Users/deepakduggirala/miniforge3/envs/dl/lib/python3.9/site-packages/keras/engine/functional.py:1410: CustomMaskWarning: Custom mask layers require a config and must override get_config. When loading, the custom mask layer must be passed to the custom_objects argument.\n",
      "  layer_config = serialize_layer_fn(layer)\n",
      "/Users/deepakduggirala/miniforge3/envs/dl/lib/python3.9/site-packages/keras/saving/saved_model/layer_serialization.py:112: CustomMaskWarning: Custom mask layers require a config and must override get_config. When loading, the custom mask layer must be passed to the custom_objects argument.\n",
      "  return generic_utils.serialize_keras_object(obj)\n"
     ]
    },
    {
     "name": "stdout",
     "output_type": "stream",
     "text": [
      "\n",
      "Epoch 00001: val_loss improved from inf to 0.00000, saving model to best_weights/20220422-002754/weights.ckpt\n",
      "1/1 [==============================] - 12s 12s/step - loss: 0.0000e+00 - val_loss: 0.0000e+00\n"
     ]
    },
    {
     "data": {
      "text/plain": [
       "<keras.callbacks.History at 0x178cdaf40>"
      ]
     },
     "execution_count": 26,
     "metadata": {},
     "output_type": "execute_result"
    }
   ],
   "source": [
    "siamese_model.fit(train_ds.take(1),\n",
    "                  epochs=1,\n",
    "                  validation_data=val_ds.take(1),\n",
    "                  callbacks=[latest_cp_callback, best_cp_callback])"
   ]
  }
 ],
 "metadata": {
  "kernelspec": {
   "display_name": "Python 3 (ipykernel)",
   "language": "python",
   "name": "python3"
  },
  "language_info": {
   "codemirror_mode": {
    "name": "ipython",
    "version": 3
   },
   "file_extension": ".py",
   "mimetype": "text/x-python",
   "name": "python",
   "nbconvert_exporter": "python",
   "pygments_lexer": "ipython3",
   "version": "3.9.12"
  }
 },
 "nbformat": 4,
 "nbformat_minor": 5
}
