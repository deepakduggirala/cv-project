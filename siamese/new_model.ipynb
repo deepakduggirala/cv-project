{
 "cells": [
  {
   "cell_type": "code",
   "execution_count": 1,
   "id": "459bf8fb-97d2-4db4-b86f-ca6a35649a8f",
   "metadata": {},
   "outputs": [],
   "source": [
    "import os\n",
    "import json\n",
    "import tensorflow as tf\n",
    "from keras.utils.layer_utils import count_params\n",
    "from model import get_model\n",
    "\n",
    "from data import get_dataset, get_zoo_elephants_images_and_labels, get_ELEP_images_and_labels\n",
    "from train import SiameseModel\n",
    "from metrics import get_kernel_mask, val, far, pairwise_accuracy\n",
    "\n",
    "from tensorflow.keras import optimizers"
   ]
  },
  {
   "cell_type": "code",
   "execution_count": 98,
   "id": "bd8f6e0d-336e-4e9f-8d05-37077f788437",
   "metadata": {},
   "outputs": [
    {
     "data": {
      "text/plain": [
       "0"
      ]
     },
     "execution_count": 98,
     "metadata": {},
     "output_type": "execute_result"
    }
   ],
   "source": [
    "im_size=256\n",
    "base_model = tf.keras.applications.ResNet50V2(include_top=False,\n",
    "                                                  weights=\"imagenet\",\n",
    "                                                  input_shape=(im_size, im_size, 3))\n",
    "    \n",
    "    \n",
    "    \n",
    "    \n",
    "base_model.trainable = False   \n",
    "trainable_count = count_params(base_model.trainable_weights)\n",
    "trainable_count"
   ]
  },
  {
   "cell_type": "code",
   "execution_count": 79,
   "id": "29f41580-3d95-4997-a8d7-05e8b32a5827",
   "metadata": {},
   "outputs": [],
   "source": []
  },
  {
   "cell_type": "code",
   "execution_count": 99,
   "id": "22dca650-8864-4898-9a41-14a678b021e4",
   "metadata": {},
   "outputs": [
    {
     "data": {
      "text/plain": [
       "8933376"
      ]
     },
     "execution_count": 99,
     "metadata": {},
     "output_type": "execute_result"
    }
   ],
   "source": [
    "base_model.trainable = True\n",
    "trainable = False\n",
    "for layer in base_model.layers:\n",
    "    if layer.name == \"conv5_block1_out\":\n",
    "        trainable = True\n",
    "    layer.trainable = trainable\n",
    "trainable_count = count_params(base_model.trainable_weights)\n",
    "trainable_count"
   ]
  },
  {
   "cell_type": "code",
   "execution_count": 91,
   "id": "b0c1dfc0-5cf6-4d29-b01a-6a4bb65b5e04",
   "metadata": {},
   "outputs": [
    {
     "data": {
      "text/plain": [
       "[('conv5_block2_1_relu', False),\n",
       " ('conv5_block2_2_pad', False),\n",
       " ('conv5_block2_2_conv', False),\n",
       " ('conv5_block2_2_bn', False),\n",
       " ('conv5_block2_2_relu', False),\n",
       " ('conv5_block2_3_conv', False),\n",
       " ('conv5_block2_out', True),\n",
       " ('conv5_block3_preact_bn', True),\n",
       " ('conv5_block3_preact_relu', True),\n",
       " ('conv5_block3_1_conv', True),\n",
       " ('conv5_block3_1_bn', True),\n",
       " ('conv5_block3_1_relu', True),\n",
       " ('conv5_block3_2_pad', True),\n",
       " ('conv5_block3_2_conv', True),\n",
       " ('conv5_block3_2_bn', True),\n",
       " ('conv5_block3_2_relu', True),\n",
       " ('conv5_block3_3_conv', True),\n",
       " ('conv5_block3_out', True),\n",
       " ('post_bn', True),\n",
       " ('post_relu', True)]"
      ]
     },
     "execution_count": 91,
     "metadata": {},
     "output_type": "execute_result"
    }
   ],
   "source": [
    "[(layer.name, layer.trainable) for layer in base_model.layers][-20:]"
   ]
  },
  {
   "cell_type": "code",
   "execution_count": null,
   "id": "1615f748-eafe-4bf6-ba27-8d7aaedfa9a7",
   "metadata": {},
   "outputs": [],
   "source": [
    "base_model.summary()"
   ]
  },
  {
   "cell_type": "code",
   "execution_count": 101,
   "id": "36e49fa8-0b84-4c81-af0a-b2153840445b",
   "metadata": {},
   "outputs": [
    {
     "name": "stdout",
     "output_type": "stream",
     "text": [
      "Model: \"model_49\"\n",
      "_________________________________________________________________\n",
      " Layer (type)                Output Shape              Param #   \n",
      "=================================================================\n",
      " input_71 (InputLayer)       [(None, 256, 256, 3)]     0         \n",
      "                                                                 \n",
      " resnet50v2 (Functional)     (None, 8, 8, 2048)        23564800  \n",
      "                                                                 \n",
      " conv2d_37 (Conv2D)          (None, 8, 8, 256)         524544    \n",
      "                                                                 \n",
      " depthwise_conv2d_67 (Depthw  (None, 1, 1, 256)        16640     \n",
      " iseConv2D)                                                      \n",
      "                                                                 \n",
      " flatten_17 (Flatten)        (None, 256)               0         \n",
      "                                                                 \n",
      " dense_29 (Dense)            (None, 256)               65792     \n",
      "                                                                 \n",
      "=================================================================\n",
      "Total params: 24,171,776\n",
      "Trainable params: 606,976\n",
      "Non-trainable params: 23,564,800\n",
      "_________________________________________________________________\n"
     ]
    }
   ],
   "source": [
    "base_model.trainable = False\n",
    "inputs = tf.keras.Input(shape=(im_size,im_size, 3))\n",
    "x = base_model(inputs, training=False)\n",
    "conv1x1 = tf.keras.layers.Conv2D(kernel_size=1, filters=256, activation='relu')(x)\n",
    "dw_conv_final = tf.keras.layers.DepthwiseConv2D(kernel_size=(8,8), activation='relu')(conv1x1)\n",
    "# dw_conv2 = tf.keras.layers.DepthwiseConv2D(kernel_size=(3,3), activation='relu')(dw_conv1)\n",
    "# dw_conv_final = tf.keras.layers.DepthwiseConv2D(kernel_size=(3,3), activation='relu')(dw_conv2)\n",
    "# dw_conv4 = tf.keras.layers.DepthwiseConv2D(kernel_size=(3,3), activation='relu')(dw_conv3)\n",
    "flatten = tf.keras.layers.Flatten()(dw_conv_final)\n",
    "embedding_layer = tf.keras.layers.Dense(units=256)(flatten)\n",
    "model = tf.keras.Model(inputs, embedding_layer)\n",
    "model.summary()"
   ]
  },
  {
   "cell_type": "code",
   "execution_count": 76,
   "id": "9b0532a6-0995-4d93-b2f7-98712042b451",
   "metadata": {},
   "outputs": [
    {
     "data": {
      "text/plain": [
       "524544"
      ]
     },
     "execution_count": 76,
     "metadata": {},
     "output_type": "execute_result"
    }
   ],
   "source": [
    "d=256\n",
    "use_avg_pool=True\n",
    "\n",
    "\n",
    "base_model.trainable = False\n",
    "\n",
    "inputs = tf.keras.Input(shape=(im_size,im_size, 3))\n",
    "x = base_model(inputs, training=False)\n",
    "if use_avg_pool:\n",
    "    # flatten = tf.keras.layers.Flatten()(x)\n",
    "    flatten = tf.keras.layers.GlobalAveragePooling2D()(x)\n",
    "else:\n",
    "    dw_conv = tf.keras.layers.DepthwiseConv2D(kernel_size=(8,8), activation='relu')(x)\n",
    "    flatten = tf.keras.layers.Flatten()(dw_conv)\n",
    "dropout1 = tf.keras.layers.Dropout(rate=0.3)(flatten)\n",
    "\n",
    "if d < 256:\n",
    "    dense1 = tf.keras.layers.Dense(units=512, activation='relu')(dropout1)\n",
    "    dropout2 = tf.keras.layers.Dropout(rate=0.3)(dense1)\n",
    "    embedding_layer = tf.keras.layers.Dense(units=d, activation='relu')(dropout2)\n",
    "else:\n",
    "    embedding_layer = tf.keras.layers.Dense(units=d, activation='relu')(dropout1)\n",
    "\n",
    "\n",
    "model = tf.keras.Model(inputs, embedding_layer)\n",
    "trainable_count = count_params(model.trainable_weights)\n",
    "trainable_count"
   ]
  },
  {
   "cell_type": "code",
   "execution_count": 77,
   "id": "781a324e-2eee-4618-a3b4-9d878ea4c70e",
   "metadata": {},
   "outputs": [
    {
     "name": "stdout",
     "output_type": "stream",
     "text": [
      "Model: \"model_47\"\n",
      "_________________________________________________________________\n",
      " Layer (type)                Output Shape              Param #   \n",
      "=================================================================\n",
      " input_63 (InputLayer)       [(None, 256, 256, 3)]     0         \n",
      "                                                                 \n",
      " resnet50v2 (Functional)     (None, 8, 8, 2048)        23564800  \n",
      "                                                                 \n",
      " global_average_pooling2d_14  (None, 2048)             0         \n",
      "  (GlobalAveragePooling2D)                                       \n",
      "                                                                 \n",
      " dropout_20 (Dropout)        (None, 2048)              0         \n",
      "                                                                 \n",
      " dense_27 (Dense)            (None, 256)               524544    \n",
      "                                                                 \n",
      "=================================================================\n",
      "Total params: 24,089,344\n",
      "Trainable params: 524,544\n",
      "Non-trainable params: 23,564,800\n",
      "_________________________________________________________________\n"
     ]
    }
   ],
   "source": [
    "model.summary()"
   ]
  },
  {
   "cell_type": "code",
   "execution_count": 12,
   "id": "ca509655-ab39-4fe2-b688-425dbfbbf642",
   "metadata": {},
   "outputs": [
    {
     "data": {
      "text/plain": [
       "68.22330495435429"
      ]
     },
     "execution_count": 12,
     "metadata": {},
     "output_type": "execute_result"
    }
   ],
   "source": [
    "85133952/1247872"
   ]
  },
  {
   "cell_type": "code",
   "execution_count": 18,
   "id": "afeb74ac-c102-47bc-aaf4-96741e69c565",
   "metadata": {},
   "outputs": [
    {
     "data": {
      "text/plain": [
       "64.7757882444531"
      ]
     },
     "execution_count": 18,
     "metadata": {},
     "output_type": "execute_result"
    }
   ],
   "source": [
    "42600704/657664"
   ]
  },
  {
   "cell_type": "code",
   "execution_count": 44,
   "id": "44b8bd5b-6cf4-4a3e-a603-e73848ccc5a4",
   "metadata": {},
   "outputs": [
    {
     "name": "stdout",
     "output_type": "stream",
     "text": [
      "Model: \"model_22\"\n",
      "_________________________________________________________________\n",
      " Layer (type)                Output Shape              Param #   \n",
      "=================================================================\n",
      " input_24 (InputLayer)       [(None, 256, 256, 3)]     0         \n",
      "                                                                 \n",
      " resnet50v2 (Functional)     (None, 8, 8, 2048)        23564800  \n",
      "                                                                 \n",
      " depthwise_conv2d_20 (Depthw  (None, 1, 1, 2048)       133120    \n",
      " iseConv2D)                                                      \n",
      "                                                                 \n",
      " flatten_15 (Flatten)        (None, 2048)              0         \n",
      "                                                                 \n",
      " dropout_18 (Dropout)        (None, 2048)              0         \n",
      "                                                                 \n",
      " dense_29 (Dense)            (None, 512)               1049088   \n",
      "                                                                 \n",
      " dropout_19 (Dropout)        (None, 512)               0         \n",
      "                                                                 \n",
      " dense_30 (Dense)            (None, 128)               65664     \n",
      "                                                                 \n",
      "=================================================================\n",
      "Total params: 24,812,672\n",
      "Trainable params: 1,247,872\n",
      "Non-trainable params: 23,564,800\n",
      "_________________________________________________________________\n"
     ]
    }
   ],
   "source": [
    "model.summary()"
   ]
  },
  {
   "cell_type": "code",
   "execution_count": 1,
   "id": "8c02c018-a73e-462b-b720-65fee755c93a",
   "metadata": {},
   "outputs": [
    {
     "ename": "NameError",
     "evalue": "name 'model' is not defined",
     "output_type": "error",
     "traceback": [
      "\u001b[0;31m---------------------------------------------------------------------------\u001b[0m",
      "\u001b[0;31mNameError\u001b[0m                                 Traceback (most recent call last)",
      "Input \u001b[0;32mIn [1]\u001b[0m, in \u001b[0;36m<cell line: 1>\u001b[0;34m()\u001b[0m\n\u001b[0;32m----> 1\u001b[0m \u001b[43mmodel\u001b[49m\n",
      "\u001b[0;31mNameError\u001b[0m: name 'model' is not defined"
     ]
    }
   ],
   "source": [
    "model"
   ]
  },
  {
   "cell_type": "code",
   "execution_count": 2,
   "id": "ef43801d-c552-4073-8b73-9a70e37b2af6",
   "metadata": {},
   "outputs": [],
   "source": [
    "with open('hyperparameters/initial_run.json', 'rb') as f:\n",
    "    params = json.load(f)"
   ]
  },
  {
   "cell_type": "code",
   "execution_count": 3,
   "id": "9211e571-7d95-4ca9-9bd8-c2bc436519a5",
   "metadata": {},
   "outputs": [
    {
     "data": {
      "text/plain": [
       "{'image_size': 256,\n",
       " 'batch_size': {'train': 128, 'val': 512},\n",
       " 'margin': 0.5,\n",
       " 'squared': False,\n",
       " 'embedding_size': 256,\n",
       " 'use_avg_pool': False,\n",
       " 'dropout1_rate': 0.3,\n",
       " 'dropout2_rate': 0.3,\n",
       " 'lr': 0.0001,\n",
       " 'decay_steps': 13,\n",
       " 'decay_rate': 0.96,\n",
       " 'dense_l2_reg_c': 0.01,\n",
       " 'metrics_d': 1.25,\n",
       " 'triplet_strategy': 'batch_all'}"
      ]
     },
     "execution_count": 3,
     "metadata": {},
     "output_type": "execute_result"
    }
   ],
   "source": [
    "params"
   ]
  },
  {
   "cell_type": "code",
   "execution_count": 4,
   "id": "2ce16eb2-ed3e-4146-9171-80f9c7885765",
   "metadata": {},
   "outputs": [],
   "source": [
    "siamese_model = SiameseModel(params, False)\n",
    "siamese_model.compile(optimizer=optimizers.Adam(params['lr']))"
   ]
  },
  {
   "cell_type": "code",
   "execution_count": 5,
   "id": "e55cf3b0-542e-4589-a81a-f56ff103b7fd",
   "metadata": {},
   "outputs": [],
   "source": [
    "data_dir = '/Users/deepakduggirala/Documents/ELPephant-cropped'"
   ]
  },
  {
   "cell_type": "code",
   "execution_count": 6,
   "id": "21af5dcc-8eb1-459e-a5cc-da7ce62d7a3b",
   "metadata": {},
   "outputs": [],
   "source": [
    "cache_files = {\n",
    "        'train': 'train.cache',\n",
    "        'val': 'val.cache'\n",
    "    }"
   ]
  },
  {
   "cell_type": "code",
   "execution_count": 7,
   "id": "9f1b8425-e554-4815-b207-af7a8f6c06fb",
   "metadata": {},
   "outputs": [
    {
     "name": "stdout",
     "output_type": "stream",
     "text": [
      "reading Tensor(\"args_0:0\", shape=(), dtype=string)\n",
      "reading Tensor(\"args_0:0\", shape=(), dtype=string)\n"
     ]
    }
   ],
   "source": [
    "train_ds, N_train = get_dataset(get_ELEP_images_and_labels, params, data_dir, 'train', cache_files)\n",
    "val_ds, N_val = get_dataset(get_ELEP_images_and_labels, params, data_dir, 'val', cache_files)"
   ]
  },
  {
   "cell_type": "code",
   "execution_count": 8,
   "id": "ef541190-f58d-40c4-b8f2-d4e254a485f5",
   "metadata": {},
   "outputs": [],
   "source": [
    "params['batch_size']['train'] = 50\n",
    "params['batch_size']['val'] = 50"
   ]
  },
  {
   "cell_type": "code",
   "execution_count": null,
   "id": "4dfce8a4-7ff6-460e-932e-18d344182c48",
   "metadata": {},
   "outputs": [],
   "source": [
    "siamese_model.fit(train_ds.take(1),\n",
    "                      epochs=4,\n",
    "                      validation_data=val_ds.take(1))"
   ]
  },
  {
   "cell_type": "code",
   "execution_count": null,
   "id": "7a39284c-384f-4e6a-9d5e-eeeb8c7d9ed5",
   "metadata": {},
   "outputs": [],
   "source": []
  },
  {
   "cell_type": "code",
   "execution_count": null,
   "id": "3a67eeb4-c73f-460b-96ee-3c798094ed78",
   "metadata": {},
   "outputs": [],
   "source": []
  },
  {
   "cell_type": "code",
   "execution_count": null,
   "id": "63864758-6206-4883-adbf-b3e68fd8492a",
   "metadata": {},
   "outputs": [],
   "source": []
  },
  {
   "cell_type": "code",
   "execution_count": null,
   "id": "e424adb7-6c73-44ee-a5c9-a169bb44409a",
   "metadata": {},
   "outputs": [],
   "source": []
  }
 ],
 "metadata": {
  "kernelspec": {
   "display_name": "Python 3 (ipykernel)",
   "language": "python",
   "name": "python3"
  },
  "language_info": {
   "codemirror_mode": {
    "name": "ipython",
    "version": 3
   },
   "file_extension": ".py",
   "mimetype": "text/x-python",
   "name": "python",
   "nbconvert_exporter": "python",
   "pygments_lexer": "ipython3",
   "version": "3.9.10"
  }
 },
 "nbformat": 4,
 "nbformat_minor": 5
}
