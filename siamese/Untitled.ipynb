{
 "cells": [
  {
   "cell_type": "code",
   "execution_count": 41,
   "id": "83b7712e-f1e1-4799-ae86-9a00043284b7",
   "metadata": {},
   "outputs": [],
   "source": [
    "import datetime\n",
    "import numpy as np\n",
    "import json\n",
    "\n",
    "from train import SiameseModel\n",
    "from tensorflow.keras import optimizers"
   ]
  },
  {
   "cell_type": "code",
   "execution_count": 35,
   "id": "ff238e6d-d8c4-4af3-bb07-7ca12df2b1ac",
   "metadata": {},
   "outputs": [
    {
     "data": {
      "text/plain": [
       "'20220425-223021-gs5gf'"
      ]
     },
     "execution_count": 35,
     "metadata": {},
     "output_type": "execute_result"
    }
   ],
   "source": [
    "datetime.datetime.now().strftime(\"%Y%m%d-%H%M%S\") + '-' +  ''.join(np.random.choice([chr(i) for i in range(48,58)] + [chr(i) for i in range(97,123)], 5))"
   ]
  },
  {
   "cell_type": "code",
   "execution_count": 20,
   "id": "be3249ab-a535-40dc-8c96-3ea78a42f839",
   "metadata": {},
   "outputs": [
    {
     "data": {
      "text/plain": [
       "'ci1leelhga'"
      ]
     },
     "execution_count": 20,
     "metadata": {},
     "output_type": "execute_result"
    }
   ],
   "source": [
    "''.join(np.random.choice([chr(i) for i in range(48,58)] + [chr(i) for i in range(97,123)], 10))"
   ]
  },
  {
   "cell_type": "code",
   "execution_count": null,
   "id": "cf9255f1-c945-4a87-a0e9-b1f1db89c373",
   "metadata": {},
   "outputs": [],
   "source": []
  },
  {
   "cell_type": "code",
   "execution_count": 38,
   "id": "2b977bd3-a30c-498c-afa7-a605397d5d4b",
   "metadata": {},
   "outputs": [],
   "source": [
    "with open('hyperparameters/initial_run.json', 'rb') as f:\n",
    "    params = json.load(f)"
   ]
  },
  {
   "cell_type": "code",
   "execution_count": 42,
   "id": "0ec8036d-3cab-4a24-8882-a06cc1145b8a",
   "metadata": {},
   "outputs": [],
   "source": [
    "siamese_model = SiameseModel(params, False)\n",
    "siamese_model.compile(optimizer=optimizers.Adam(learning_rate=params['lr']))"
   ]
  },
  {
   "cell_type": "code",
   "execution_count": 44,
   "id": "f3e1a9d1-cd08-4393-ad5f-eb9c4f441bcc",
   "metadata": {},
   "outputs": [
    {
     "data": {
      "text/plain": [
       "TensorShape([None, 256])"
      ]
     },
     "execution_count": 44,
     "metadata": {},
     "output_type": "execute_result"
    }
   ],
   "source": [
    "input_shape = (None, params['image_size'], params['image_size'], 3)\n",
    "siamese_model.compute_output_shape(input_shape=input_shape)"
   ]
  },
  {
   "cell_type": "code",
   "execution_count": 48,
   "id": "9c4648ec-7955-4589-957a-6fe9d1ecb6fd",
   "metadata": {},
   "outputs": [
    {
     "data": {
      "text/plain": [
       "['input_4', 'resnet50v2', 'dense_1']"
      ]
     },
     "execution_count": 48,
     "metadata": {},
     "output_type": "execute_result"
    }
   ],
   "source": [
    "[layer.name for layer in siamese_model.siamese_network.layers]"
   ]
  },
  {
   "cell_type": "code",
   "execution_count": 51,
   "id": "0cd7846a-fbb7-4aea-82a1-d7d84d4474bb",
   "metadata": {},
   "outputs": [],
   "source": [
    "base_model = siamese_model.siamese_network.layers[1]"
   ]
  },
  {
   "cell_type": "code",
   "execution_count": 52,
   "id": "34864f48-e61b-48d6-8687-afbae7d5f6a7",
   "metadata": {},
   "outputs": [],
   "source": [
    "base_model.trainable = True\n",
    "trainable = False\n",
    "for layer in base_model.layers:\n",
    "    if layer.name == \"conv5_block2_out\":\n",
    "        trainable = True\n",
    "    layer.trainable = trainable"
   ]
  },
  {
   "cell_type": "code",
   "execution_count": 53,
   "id": "7c505a7b-fad9-44ad-a6f3-7de8011f91b5",
   "metadata": {},
   "outputs": [
    {
     "name": "stdout",
     "output_type": "stream",
     "text": [
      "Model: \"siamese_model_1\"\n",
      "_________________________________________________________________\n",
      " Layer (type)                Output Shape              Param #   \n",
      "=================================================================\n",
      " model_1 (Functional)        (None, 256)               24089344  \n",
      "                                                                 \n",
      "=================================================================\n",
      "Total params: 24,089,350\n",
      "Trainable params: 4,993,280\n",
      "Non-trainable params: 19,096,070\n",
      "_________________________________________________________________\n"
     ]
    }
   ],
   "source": [
    "siamese_model.summary()"
   ]
  },
  {
   "cell_type": "code",
   "execution_count": null,
   "id": "29508a4c-ea30-4c01-a6f6-893beef73e57",
   "metadata": {},
   "outputs": [],
   "source": []
  },
  {
   "cell_type": "code",
   "execution_count": null,
   "id": "8207028d-d94f-4c51-9ef5-565cbb5a1e01",
   "metadata": {},
   "outputs": [],
   "source": []
  },
  {
   "cell_type": "code",
   "execution_count": null,
   "id": "c8958ded-5f4e-4e24-83a8-9fae04de0386",
   "metadata": {},
   "outputs": [],
   "source": []
  }
 ],
 "metadata": {
  "kernelspec": {
   "display_name": "Python 3 (ipykernel)",
   "language": "python",
   "name": "python3"
  },
  "language_info": {
   "codemirror_mode": {
    "name": "ipython",
    "version": 3
   },
   "file_extension": ".py",
   "mimetype": "text/x-python",
   "name": "python",
   "nbconvert_exporter": "python",
   "pygments_lexer": "ipython3",
   "version": "3.9.10"
  }
 },
 "nbformat": 4,
 "nbformat_minor": 5
}
